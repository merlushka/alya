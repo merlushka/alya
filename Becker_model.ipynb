{
 "cells": [
  {
   "cell_type": "markdown",
   "metadata": {},
   "source": [
    "# Экономика преступления и наказания"
   ]
  },
  {
   "cell_type": "code",
   "execution_count": 1,
   "metadata": {},
   "outputs": [],
   "source": [
    "from bs4 import BeautifulSoup\n",
    "import requests\n",
    "import pandas as pd\n",
    "import numpy as np\n",
    "import urllib.request\n",
    "import os\n",
    "from os.path import join"
   ]
  },
  {
   "cell_type": "code",
   "execution_count": 2,
   "metadata": {},
   "outputs": [
    {
     "name": "stdout",
     "output_type": "stream",
     "text": [
      "Populating the interactive namespace from numpy and matplotlib\n"
     ]
    }
   ],
   "source": [
    "%pylab inline\n",
    "from matplotlib import pyplot as plt"
   ]
  },
  {
   "cell_type": "markdown",
   "metadata": {},
   "source": [
    "### Baseline model"
   ]
  },
  {
   "cell_type": "markdown",
   "metadata": {},
   "source": [
    "Для начала соберем данные о преступности, безработице и среднем заработке населения.\n",
    "Я нашла два источника данных о преступности (количество преступлений на 100 тыс. человек) за разные периоды и объединила их в одну таблицу. К сожалению, доступ на многие страницы на сайте www.gks.ru, где собраны статистические выборки, ограничен. Поэтому я ограничилась тем, что оказалось доступно."
   ]
  },
  {
   "cell_type": "code",
   "execution_count": 3,
   "metadata": {},
   "outputs": [],
   "source": [
    "url='https://realnoevremya.ru/attachments/1015'\n",
    "\n",
    "page=requests.get(url)\n",
    "\n",
    "soup=BeautifulSoup(page.text, 'html.parser')"
   ]
  },
  {
   "cell_type": "code",
   "execution_count": 6,
   "metadata": {
    "scrolled": true
   },
   "outputs": [],
   "source": [
    "array=np.array([x.text.replace('\\n','').replace('\\t','').replace('\\r','').replace('.','').replace(',','.') for x in soup.findAll('table')[0].findAll('td')]).reshape(-1,7)\n",
    "df=pd.DataFrame({int(array[0,i]):array[1:,i].astype(float) for i in range(1,len(array[0])-1)}, index=array[1:,0])"
   ]
  },
  {
   "cell_type": "markdown",
   "metadata": {},
   "source": [
    "Первая таблица - за 2014 - 2018 годы"
   ]
  },
  {
   "cell_type": "code",
   "execution_count": 216,
   "metadata": {},
   "outputs": [
    {
     "data": {
      "text/html": [
       "<div>\n",
       "<style scoped>\n",
       "    .dataframe tbody tr th:only-of-type {\n",
       "        vertical-align: middle;\n",
       "    }\n",
       "\n",
       "    .dataframe tbody tr th {\n",
       "        vertical-align: top;\n",
       "    }\n",
       "\n",
       "    .dataframe thead th {\n",
       "        text-align: right;\n",
       "    }\n",
       "</style>\n",
       "<table border=\"1\" class=\"dataframe\">\n",
       "  <thead>\n",
       "    <tr style=\"text-align: right;\">\n",
       "      <th></th>\n",
       "      <th>2018</th>\n",
       "      <th>2017</th>\n",
       "      <th>2016</th>\n",
       "      <th>2015</th>\n",
       "      <th>2014</th>\n",
       "    </tr>\n",
       "  </thead>\n",
       "  <tbody>\n",
       "    <tr>\n",
       "      <th>Республика Тыва</th>\n",
       "      <td>2876.4</td>\n",
       "      <td>3662.8</td>\n",
       "      <td>3457.8</td>\n",
       "      <td>2689.5</td>\n",
       "      <td>2113.2</td>\n",
       "    </tr>\n",
       "    <tr>\n",
       "      <th>Республика Бурятия</th>\n",
       "      <td>2388.1</td>\n",
       "      <td>2399.1</td>\n",
       "      <td>2390.2</td>\n",
       "      <td>2840.8</td>\n",
       "      <td>2525.2</td>\n",
       "    </tr>\n",
       "    <tr>\n",
       "      <th>Забайкальский край</th>\n",
       "      <td>2268.9</td>\n",
       "      <td>2501.6</td>\n",
       "      <td>2738.5</td>\n",
       "      <td>3068.9</td>\n",
       "      <td>2948.6</td>\n",
       "    </tr>\n",
       "    <tr>\n",
       "      <th>Еврейская автономная область</th>\n",
       "      <td>2260.9</td>\n",
       "      <td>2199.5</td>\n",
       "      <td>2061.2</td>\n",
       "      <td>2152.4</td>\n",
       "      <td>2033.7</td>\n",
       "    </tr>\n",
       "    <tr>\n",
       "      <th>Амурская область</th>\n",
       "      <td>2196.3</td>\n",
       "      <td>2308.1</td>\n",
       "      <td>2315.5</td>\n",
       "      <td>2404.7</td>\n",
       "      <td>2126.8</td>\n",
       "    </tr>\n",
       "  </tbody>\n",
       "</table>\n",
       "</div>"
      ],
      "text/plain": [
       "                                2018    2017    2016    2015    2014\n",
       "Республика Тыва               2876.4  3662.8  3457.8  2689.5  2113.2\n",
       "Республика Бурятия            2388.1  2399.1  2390.2  2840.8  2525.2\n",
       "Забайкальский край            2268.9  2501.6  2738.5  3068.9  2948.6\n",
       "Еврейская автономная область  2260.9  2199.5  2061.2  2152.4  2033.7\n",
       "Амурская область              2196.3  2308.1  2315.5  2404.7  2126.8"
      ]
     },
     "execution_count": 216,
     "metadata": {},
     "output_type": "execute_result"
    }
   ],
   "source": [
    "df.head()"
   ]
  },
  {
   "cell_type": "code",
   "execution_count": 9,
   "metadata": {},
   "outputs": [],
   "source": [
    "url1='https://www.gks.ru/bgd/regl/b12_14p/isswww.exe/stg/d01/09-01.htm'\n",
    "page1=requests.get(url1)\n",
    "page1.encoding='windows-1251'\n",
    "soup1 = BeautifulSoup(page1.text, 'lxml')"
   ]
  },
  {
   "cell_type": "code",
   "execution_count": 10,
   "metadata": {},
   "outputs": [],
   "source": [
    "soup1 = BeautifulSoup(page1.text, 'lxml')\n",
    "full_list=[x.text.replace('\\n','').replace('\\r',' ') for x in soup1.table.find_all('td')][:-1]"
   ]
  },
  {
   "cell_type": "code",
   "execution_count": 11,
   "metadata": {},
   "outputs": [],
   "source": [
    "array = np.array(full_list).reshape(-1,15)\n",
    "regions = array[1:,0]\n",
    "numbers = np.copy(array[1:,1:])\n",
    "for i,row in enumerate(array[1:,1:]):\n",
    "    for j,number in enumerate(row):\n",
    "        try:\n",
    "            numbers[i,j]=float(number)\n",
    "        except Exception as e:\n",
    "            numbers[i,j]=np.nan"
   ]
  },
  {
   "cell_type": "code",
   "execution_count": 12,
   "metadata": {},
   "outputs": [],
   "source": [
    "df1=pd.DataFrame({int(array[0,i]):numbers[:,i-1].astype(float) for i in range(1,len(array[0])-1)}, index=regions)"
   ]
  },
  {
   "cell_type": "markdown",
   "metadata": {},
   "source": [
    "И вторая - за 1990 и 2000-2011 годы."
   ]
  },
  {
   "cell_type": "code",
   "execution_count": 215,
   "metadata": {},
   "outputs": [
    {
     "data": {
      "text/html": [
       "<div>\n",
       "<style scoped>\n",
       "    .dataframe tbody tr th:only-of-type {\n",
       "        vertical-align: middle;\n",
       "    }\n",
       "\n",
       "    .dataframe tbody tr th {\n",
       "        vertical-align: top;\n",
       "    }\n",
       "\n",
       "    .dataframe thead th {\n",
       "        text-align: right;\n",
       "    }\n",
       "</style>\n",
       "<table border=\"1\" class=\"dataframe\">\n",
       "  <thead>\n",
       "    <tr style=\"text-align: right;\">\n",
       "      <th></th>\n",
       "      <th>1990</th>\n",
       "      <th>2000</th>\n",
       "      <th>2001</th>\n",
       "      <th>2002</th>\n",
       "      <th>2003</th>\n",
       "      <th>2004</th>\n",
       "      <th>2005</th>\n",
       "      <th>2006</th>\n",
       "      <th>2007</th>\n",
       "      <th>2008</th>\n",
       "      <th>2009</th>\n",
       "      <th>2010</th>\n",
       "      <th>2011</th>\n",
       "    </tr>\n",
       "  </thead>\n",
       "  <tbody>\n",
       "    <tr>\n",
       "      <th>Российская Федерация</th>\n",
       "      <td>1243.0</td>\n",
       "      <td>2014.0</td>\n",
       "      <td>2033.0</td>\n",
       "      <td>1739.0</td>\n",
       "      <td>1906.0</td>\n",
       "      <td>2009.0</td>\n",
       "      <td>2477.0</td>\n",
       "      <td>2695.0</td>\n",
       "      <td>2509.0</td>\n",
       "      <td>2249.0</td>\n",
       "      <td>2097.0</td>\n",
       "      <td>1840.0</td>\n",
       "      <td>1682.0</td>\n",
       "    </tr>\n",
       "    <tr>\n",
       "      <th>Центральный  федеральный округ</th>\n",
       "      <td>882.0</td>\n",
       "      <td>1562.0</td>\n",
       "      <td>1580.0</td>\n",
       "      <td>1496.0</td>\n",
       "      <td>1694.0</td>\n",
       "      <td>1734.0</td>\n",
       "      <td>2048.0</td>\n",
       "      <td>2119.0</td>\n",
       "      <td>2001.0</td>\n",
       "      <td>1811.0</td>\n",
       "      <td>1747.0</td>\n",
       "      <td>1566.0</td>\n",
       "      <td>1465.0</td>\n",
       "    </tr>\n",
       "    <tr>\n",
       "      <th>Белгородская область</th>\n",
       "      <td>882.0</td>\n",
       "      <td>1323.0</td>\n",
       "      <td>1350.0</td>\n",
       "      <td>1198.0</td>\n",
       "      <td>1264.0</td>\n",
       "      <td>1280.0</td>\n",
       "      <td>1670.0</td>\n",
       "      <td>1594.0</td>\n",
       "      <td>1396.0</td>\n",
       "      <td>1256.0</td>\n",
       "      <td>1307.0</td>\n",
       "      <td>1099.0</td>\n",
       "      <td>1036.0</td>\n",
       "    </tr>\n",
       "    <tr>\n",
       "      <th>Брянская область</th>\n",
       "      <td>1067.0</td>\n",
       "      <td>2107.0</td>\n",
       "      <td>1981.0</td>\n",
       "      <td>1510.0</td>\n",
       "      <td>1809.0</td>\n",
       "      <td>1856.0</td>\n",
       "      <td>2321.0</td>\n",
       "      <td>2191.0</td>\n",
       "      <td>2148.0</td>\n",
       "      <td>2049.0</td>\n",
       "      <td>1982.0</td>\n",
       "      <td>1833.0</td>\n",
       "      <td>1533.0</td>\n",
       "    </tr>\n",
       "    <tr>\n",
       "      <th>Владимирская область</th>\n",
       "      <td>954.0</td>\n",
       "      <td>2031.0</td>\n",
       "      <td>2131.0</td>\n",
       "      <td>1749.0</td>\n",
       "      <td>1913.0</td>\n",
       "      <td>2140.0</td>\n",
       "      <td>2471.0</td>\n",
       "      <td>2497.0</td>\n",
       "      <td>2296.0</td>\n",
       "      <td>1956.0</td>\n",
       "      <td>1898.0</td>\n",
       "      <td>1775.0</td>\n",
       "      <td>1659.0</td>\n",
       "    </tr>\n",
       "  </tbody>\n",
       "</table>\n",
       "</div>"
      ],
      "text/plain": [
       "                                  1990    2000    2001    2002    2003  \\\n",
       "Российская Федерация            1243.0  2014.0  2033.0  1739.0  1906.0   \n",
       "Центральный  федеральный округ   882.0  1562.0  1580.0  1496.0  1694.0   \n",
       "Белгородская область             882.0  1323.0  1350.0  1198.0  1264.0   \n",
       "Брянская область                1067.0  2107.0  1981.0  1510.0  1809.0   \n",
       "Владимирская область             954.0  2031.0  2131.0  1749.0  1913.0   \n",
       "\n",
       "                                  2004    2005    2006    2007    2008  \\\n",
       "Российская Федерация            2009.0  2477.0  2695.0  2509.0  2249.0   \n",
       "Центральный  федеральный округ  1734.0  2048.0  2119.0  2001.0  1811.0   \n",
       "Белгородская область            1280.0  1670.0  1594.0  1396.0  1256.0   \n",
       "Брянская область                1856.0  2321.0  2191.0  2148.0  2049.0   \n",
       "Владимирская область            2140.0  2471.0  2497.0  2296.0  1956.0   \n",
       "\n",
       "                                  2009    2010    2011  \n",
       "Российская Федерация            2097.0  1840.0  1682.0  \n",
       "Центральный  федеральный округ  1747.0  1566.0  1465.0  \n",
       "Белгородская область            1307.0  1099.0  1036.0  \n",
       "Брянская область                1982.0  1833.0  1533.0  \n",
       "Владимирская область            1898.0  1775.0  1659.0  "
      ]
     },
     "execution_count": 215,
     "metadata": {},
     "output_type": "execute_result"
    }
   ],
   "source": [
    "df1.head()"
   ]
  },
  {
   "cell_type": "markdown",
   "metadata": {},
   "source": [
    "Таблица crime объединяет данные за оба периода."
   ]
  },
  {
   "cell_type": "code",
   "execution_count": 14,
   "metadata": {},
   "outputs": [],
   "source": [
    "crime = df1.join(df)"
   ]
  },
  {
   "cell_type": "markdown",
   "metadata": {},
   "source": [
    "Теперь найдем данные о безработице и среднем заработке."
   ]
  },
  {
   "cell_type": "code",
   "execution_count": 16,
   "metadata": {},
   "outputs": [],
   "source": [
    "unemployment_url='https://www.gks.ru/storage/mediabank/trud6_15-72.xls'"
   ]
  },
  {
   "cell_type": "code",
   "execution_count": 17,
   "metadata": {},
   "outputs": [
    {
     "data": {
      "text/plain": [
       "('/home/alya/Downloads/unemployment.xls',\n",
       " <http.client.HTTPMessage at 0x7ff0c512ad30>)"
      ]
     },
     "execution_count": 17,
     "metadata": {},
     "output_type": "execute_result"
    }
   ],
   "source": [
    "urllib.request.urlretrieve(unemployment_url, join(os.getcwd(),'unemployment.xls'))\n"
   ]
  },
  {
   "cell_type": "code",
   "execution_count": 18,
   "metadata": {},
   "outputs": [],
   "source": [
    "unemp = pd.read_excel(join(os.getcwd(),'unemployment.xls'), sheet_name='Год 15-72 лет ', header=3, index_col=0)"
   ]
  },
  {
   "cell_type": "markdown",
   "metadata": {},
   "source": [
    "Пропущенные значения в таблице обозначены многоточием, уберем его."
   ]
  },
  {
   "cell_type": "code",
   "execution_count": 219,
   "metadata": {},
   "outputs": [
    {
     "data": {
      "text/html": [
       "<div>\n",
       "<style scoped>\n",
       "    .dataframe tbody tr th:only-of-type {\n",
       "        vertical-align: middle;\n",
       "    }\n",
       "\n",
       "    .dataframe tbody tr th {\n",
       "        vertical-align: top;\n",
       "    }\n",
       "\n",
       "    .dataframe thead th {\n",
       "        text-align: right;\n",
       "    }\n",
       "</style>\n",
       "<table border=\"1\" class=\"dataframe\">\n",
       "  <thead>\n",
       "    <tr style=\"text-align: right;\">\n",
       "      <th></th>\n",
       "      <th>2000</th>\n",
       "      <th>2001</th>\n",
       "      <th>2002</th>\n",
       "      <th>2003</th>\n",
       "      <th>2004</th>\n",
       "      <th>2005</th>\n",
       "      <th>2006</th>\n",
       "      <th>2007</th>\n",
       "      <th>2008</th>\n",
       "      <th>2009</th>\n",
       "      <th>2010</th>\n",
       "      <th>2011</th>\n",
       "      <th>2012</th>\n",
       "      <th>2013</th>\n",
       "      <th>2014</th>\n",
       "      <th>2015</th>\n",
       "      <th>2016</th>\n",
       "      <th>2017</th>\n",
       "      <th>2018</th>\n",
       "      <th>2019</th>\n",
       "    </tr>\n",
       "  </thead>\n",
       "  <tbody>\n",
       "    <tr>\n",
       "      <th>Российская Федерация</th>\n",
       "      <td>10.6</td>\n",
       "      <td>9.0</td>\n",
       "      <td>7.9</td>\n",
       "      <td>8.2</td>\n",
       "      <td>7.8</td>\n",
       "      <td>7.1</td>\n",
       "      <td>7.1</td>\n",
       "      <td>6.0</td>\n",
       "      <td>6.2</td>\n",
       "      <td>8.3</td>\n",
       "      <td>7.3</td>\n",
       "      <td>6.5</td>\n",
       "      <td>5.5</td>\n",
       "      <td>5.5</td>\n",
       "      <td>5.2</td>\n",
       "      <td>5.6</td>\n",
       "      <td>5.5</td>\n",
       "      <td>5.2</td>\n",
       "      <td>4.8</td>\n",
       "      <td>4.6</td>\n",
       "    </tr>\n",
       "    <tr>\n",
       "      <th>Центральный федеральный округ</th>\n",
       "      <td>7.8</td>\n",
       "      <td>6.0</td>\n",
       "      <td>5.1</td>\n",
       "      <td>5.1</td>\n",
       "      <td>4.7</td>\n",
       "      <td>4.3</td>\n",
       "      <td>4.0</td>\n",
       "      <td>3.1</td>\n",
       "      <td>3.6</td>\n",
       "      <td>5.8</td>\n",
       "      <td>4.6</td>\n",
       "      <td>4.1</td>\n",
       "      <td>3.1</td>\n",
       "      <td>3.3</td>\n",
       "      <td>3.1</td>\n",
       "      <td>3.5</td>\n",
       "      <td>3.5</td>\n",
       "      <td>3.2</td>\n",
       "      <td>2.9</td>\n",
       "      <td>2.9</td>\n",
       "    </tr>\n",
       "    <tr>\n",
       "      <th>Белгородская область</th>\n",
       "      <td>6.1</td>\n",
       "      <td>6.4</td>\n",
       "      <td>8.1</td>\n",
       "      <td>8.3</td>\n",
       "      <td>6.2</td>\n",
       "      <td>5.9</td>\n",
       "      <td>5.6</td>\n",
       "      <td>4.3</td>\n",
       "      <td>3.9</td>\n",
       "      <td>4.7</td>\n",
       "      <td>5.2</td>\n",
       "      <td>4.3</td>\n",
       "      <td>3.7</td>\n",
       "      <td>4.0</td>\n",
       "      <td>4.0</td>\n",
       "      <td>4.1</td>\n",
       "      <td>4.0</td>\n",
       "      <td>3.9</td>\n",
       "      <td>4.0</td>\n",
       "      <td>3.9</td>\n",
       "    </tr>\n",
       "    <tr>\n",
       "      <th>Брянская область</th>\n",
       "      <td>13.4</td>\n",
       "      <td>9.8</td>\n",
       "      <td>8.6</td>\n",
       "      <td>7.4</td>\n",
       "      <td>8.9</td>\n",
       "      <td>6.8</td>\n",
       "      <td>6.8</td>\n",
       "      <td>6.4</td>\n",
       "      <td>6.5</td>\n",
       "      <td>10.7</td>\n",
       "      <td>8.0</td>\n",
       "      <td>7.1</td>\n",
       "      <td>5.1</td>\n",
       "      <td>5.2</td>\n",
       "      <td>5.0</td>\n",
       "      <td>4.6</td>\n",
       "      <td>4.6</td>\n",
       "      <td>4.4</td>\n",
       "      <td>3.9</td>\n",
       "      <td>3.8</td>\n",
       "    </tr>\n",
       "    <tr>\n",
       "      <th>Владимирская область</th>\n",
       "      <td>12.0</td>\n",
       "      <td>10.2</td>\n",
       "      <td>10.4</td>\n",
       "      <td>10.2</td>\n",
       "      <td>9.1</td>\n",
       "      <td>9.0</td>\n",
       "      <td>10.8</td>\n",
       "      <td>6.7</td>\n",
       "      <td>5.7</td>\n",
       "      <td>8.7</td>\n",
       "      <td>6.1</td>\n",
       "      <td>5.7</td>\n",
       "      <td>4.4</td>\n",
       "      <td>3.8</td>\n",
       "      <td>4.3</td>\n",
       "      <td>5.6</td>\n",
       "      <td>5.6</td>\n",
       "      <td>4.8</td>\n",
       "      <td>4.7</td>\n",
       "      <td>4.0</td>\n",
       "    </tr>\n",
       "  </tbody>\n",
       "</table>\n",
       "</div>"
      ],
      "text/plain": [
       "                               2000  2001  2002  2003  2004  2005  2006  2007  \\\n",
       "Российская Федерация           10.6   9.0   7.9   8.2   7.8   7.1   7.1   6.0   \n",
       "Центральный федеральный округ   7.8   6.0   5.1   5.1   4.7   4.3   4.0   3.1   \n",
       "Белгородская область            6.1   6.4   8.1   8.3   6.2   5.9   5.6   4.3   \n",
       "Брянская область               13.4   9.8   8.6   7.4   8.9   6.8   6.8   6.4   \n",
       "Владимирская область           12.0  10.2  10.4  10.2   9.1   9.0  10.8   6.7   \n",
       "\n",
       "                               2008  2009  2010  2011  2012  2013  2014  2015  \\\n",
       "Российская Федерация            6.2   8.3   7.3   6.5   5.5   5.5   5.2   5.6   \n",
       "Центральный федеральный округ   3.6   5.8   4.6   4.1   3.1   3.3   3.1   3.5   \n",
       "Белгородская область            3.9   4.7   5.2   4.3   3.7   4.0   4.0   4.1   \n",
       "Брянская область                6.5  10.7   8.0   7.1   5.1   5.2   5.0   4.6   \n",
       "Владимирская область            5.7   8.7   6.1   5.7   4.4   3.8   4.3   5.6   \n",
       "\n",
       "                               2016  2017  2018  2019  \n",
       "Российская Федерация            5.5   5.2   4.8   4.6  \n",
       "Центральный федеральный округ   3.5   3.2   2.9   2.9  \n",
       "Белгородская область            4.0   3.9   4.0   3.9  \n",
       "Брянская область                4.6   4.4   3.9   3.8  \n",
       "Владимирская область            5.6   4.8   4.7   4.0  "
      ]
     },
     "execution_count": 219,
     "metadata": {},
     "output_type": "execute_result"
    }
   ],
   "source": [
    "unemp=unemp.replace('…', np.nan)\n",
    "unemp.head()"
   ]
  },
  {
   "cell_type": "code",
   "execution_count": 62,
   "metadata": {},
   "outputs": [],
   "source": [
    "salary_url='https://www.gks.ru/storage/mediabank/t4.xlsx'\n",
    "urllib.request.urlretrieve(salary_url, join(os.getcwd(),'salary.xls'))\n",
    "salary_df_0_17 = pd.read_excel(join(os.getcwd(),'salary.xls'), sheet_name='2000-2017', header=3, index_col=0)\n",
    "salary_df_18 = pd.read_excel(join(os.getcwd(),'salary.xls'), sheet_name='с 2018', header=3, index_col=0, \n",
    "                              usecols=[0,1,2], names=['Region',2018,2019],\n",
    "                            na_values='…')\n",
    "salary = salary_df_0_17.join(salary_df_18)"
   ]
  },
  {
   "cell_type": "markdown",
   "metadata": {},
   "source": [
    "Можно заметить, что в таблице с зарплатами Москва и Санкт-Петербург написаны без пробела, так что исправим это, чтобы унифицировать все данные."
   ]
  },
  {
   "cell_type": "code",
   "execution_count": 67,
   "metadata": {},
   "outputs": [],
   "source": [
    "as_list = salary.index.tolist()\n",
    "idx = as_list.index('г.Санкт-Петербург')\n",
    "as_list[idx] = 'г. Санкт-Петербург'\n",
    "salary.index = as_list\n",
    "\n",
    "\n",
    "as_list = unemp.index.tolist()\n",
    "idx = as_list.index('г.Санкт-Петербург')\n",
    "as_list[idx] = 'г. Санкт-Петербург'\n",
    "unemp.index = as_list"
   ]
  },
  {
   "cell_type": "code",
   "execution_count": 68,
   "metadata": {},
   "outputs": [],
   "source": [
    "salary=salary.replace('…', np.nan)"
   ]
  },
  {
   "cell_type": "code",
   "execution_count": null,
   "metadata": {},
   "outputs": [],
   "source": []
  },
  {
   "cell_type": "markdown",
   "metadata": {},
   "source": [
    "Теперь переиндексируем все таблицы, приведя их к виду (Регион+Год, значение)."
   ]
  },
  {
   "cell_type": "code",
   "execution_count": 146,
   "metadata": {},
   "outputs": [],
   "source": [
    "salary_df=salary.unstack().to_frame().sort_index(level=1).rename(columns={0:'salary'})\n",
    "unemp_df=unemp.unstack().to_frame().sort_index(level=1).rename(columns={0:'unemployment'})\n",
    "crime_df=crime.unstack().to_frame().sort_index(level=1).rename(columns={0:'criminality'})\n"
   ]
  },
  {
   "cell_type": "code",
   "execution_count": 220,
   "metadata": {},
   "outputs": [
    {
     "data": {
      "text/html": [
       "<div>\n",
       "<style scoped>\n",
       "    .dataframe tbody tr th:only-of-type {\n",
       "        vertical-align: middle;\n",
       "    }\n",
       "\n",
       "    .dataframe tbody tr th {\n",
       "        vertical-align: top;\n",
       "    }\n",
       "\n",
       "    .dataframe thead th {\n",
       "        text-align: right;\n",
       "    }\n",
       "</style>\n",
       "<table border=\"1\" class=\"dataframe\">\n",
       "  <thead>\n",
       "    <tr style=\"text-align: right;\">\n",
       "      <th></th>\n",
       "      <th></th>\n",
       "      <th>criminality</th>\n",
       "    </tr>\n",
       "  </thead>\n",
       "  <tbody>\n",
       "    <tr>\n",
       "      <th>1990</th>\n",
       "      <th>Алтайский край</th>\n",
       "      <td>1216.0</td>\n",
       "    </tr>\n",
       "    <tr>\n",
       "      <th>2000</th>\n",
       "      <th>Алтайский край</th>\n",
       "      <td>2143.0</td>\n",
       "    </tr>\n",
       "    <tr>\n",
       "      <th>2001</th>\n",
       "      <th>Алтайский край</th>\n",
       "      <td>2093.0</td>\n",
       "    </tr>\n",
       "    <tr>\n",
       "      <th>2002</th>\n",
       "      <th>Алтайский край</th>\n",
       "      <td>2057.0</td>\n",
       "    </tr>\n",
       "    <tr>\n",
       "      <th>2003</th>\n",
       "      <th>Алтайский край</th>\n",
       "      <td>2434.0</td>\n",
       "    </tr>\n",
       "  </tbody>\n",
       "</table>\n",
       "</div>"
      ],
      "text/plain": [
       "                     criminality\n",
       "1990 Алтайский край       1216.0\n",
       "2000 Алтайский край       2143.0\n",
       "2001 Алтайский край       2093.0\n",
       "2002 Алтайский край       2057.0\n",
       "2003 Алтайский край       2434.0"
      ]
     },
     "execution_count": 220,
     "metadata": {},
     "output_type": "execute_result"
    }
   ],
   "source": [
    "crime_df.dropna(subset = [\"criminality\"], inplace=True)\n",
    "crime_df.head()"
   ]
  },
  {
   "cell_type": "markdown",
   "metadata": {},
   "source": [
    "Объединим все данные в одну таблицу"
   ]
  },
  {
   "cell_type": "code",
   "execution_count": 303,
   "metadata": {},
   "outputs": [],
   "source": [
    "full_table=crime_df.join(salary_df.join(unemp_df))"
   ]
  },
  {
   "cell_type": "code",
   "execution_count": 304,
   "metadata": {},
   "outputs": [],
   "source": [
    "full_table=full_table.replace('…', np.nan)"
   ]
  },
  {
   "cell_type": "code",
   "execution_count": 234,
   "metadata": {},
   "outputs": [
    {
     "data": {
      "text/html": [
       "<div>\n",
       "<style scoped>\n",
       "    .dataframe tbody tr th:only-of-type {\n",
       "        vertical-align: middle;\n",
       "    }\n",
       "\n",
       "    .dataframe tbody tr th {\n",
       "        vertical-align: top;\n",
       "    }\n",
       "\n",
       "    .dataframe thead th {\n",
       "        text-align: right;\n",
       "    }\n",
       "</style>\n",
       "<table border=\"1\" class=\"dataframe\">\n",
       "  <thead>\n",
       "    <tr style=\"text-align: right;\">\n",
       "      <th></th>\n",
       "      <th></th>\n",
       "      <th>criminality</th>\n",
       "      <th>salary</th>\n",
       "      <th>unemployment</th>\n",
       "    </tr>\n",
       "  </thead>\n",
       "  <tbody>\n",
       "    <tr>\n",
       "      <th>2000</th>\n",
       "      <th>Алтайский край</th>\n",
       "      <td>2143.0</td>\n",
       "      <td>1364.8</td>\n",
       "      <td>11.7</td>\n",
       "    </tr>\n",
       "    <tr>\n",
       "      <th>2001</th>\n",
       "      <th>Алтайский край</th>\n",
       "      <td>2093.0</td>\n",
       "      <td>1870.4</td>\n",
       "      <td>10.0</td>\n",
       "    </tr>\n",
       "    <tr>\n",
       "      <th>2002</th>\n",
       "      <th>Алтайский край</th>\n",
       "      <td>2057.0</td>\n",
       "      <td>2567.6</td>\n",
       "      <td>8.3</td>\n",
       "    </tr>\n",
       "    <tr>\n",
       "      <th>2003</th>\n",
       "      <th>Алтайский край</th>\n",
       "      <td>2434.0</td>\n",
       "      <td>3147.5</td>\n",
       "      <td>12.3</td>\n",
       "    </tr>\n",
       "    <tr>\n",
       "      <th>2004</th>\n",
       "      <th>Алтайский край</th>\n",
       "      <td>2315.0</td>\n",
       "      <td>3955.3</td>\n",
       "      <td>9.1</td>\n",
       "    </tr>\n",
       "  </tbody>\n",
       "</table>\n",
       "</div>"
      ],
      "text/plain": [
       "                     criminality  salary  unemployment\n",
       "2000 Алтайский край       2143.0  1364.8          11.7\n",
       "2001 Алтайский край       2093.0  1870.4          10.0\n",
       "2002 Алтайский край       2057.0  2567.6           8.3\n",
       "2003 Алтайский край       2434.0  3147.5          12.3\n",
       "2004 Алтайский край       2315.0  3955.3           9.1"
      ]
     },
     "execution_count": 234,
     "metadata": {},
     "output_type": "execute_result"
    }
   ],
   "source": [
    "full_table.head()"
   ]
  },
  {
   "cell_type": "markdown",
   "metadata": {},
   "source": [
    "Создадим матрицу признаков объектов и вектор меток."
   ]
  },
  {
   "cell_type": "code",
   "execution_count": 235,
   "metadata": {},
   "outputs": [],
   "source": [
    "X = np.zeros((len(full_table),2))\n",
    "X[:,0] = (np.array(full_table['salary']))\n",
    "X[:,1] = (np.array(full_table['unemployment']))\n",
    "y  = (np.array(full_table['criminality']))"
   ]
  },
  {
   "cell_type": "code",
   "execution_count": 236,
   "metadata": {},
   "outputs": [],
   "source": [
    "import numpy as np\n",
    "from sklearn.model_selection import train_test_split"
   ]
  },
  {
   "cell_type": "markdown",
   "metadata": {},
   "source": [
    "Разделим на обучающую и тестовую выборки."
   ]
  },
  {
   "cell_type": "code",
   "execution_count": 238,
   "metadata": {},
   "outputs": [],
   "source": [
    "X_train, X_test, y_train, y_test = train_test_split(\n",
    "    X, y, test_size=0.25, shuffle=True,random_state=42)"
   ]
  },
  {
   "cell_type": "markdown",
   "metadata": {},
   "source": [
    "Для начала попробуем самую простую линейную регрессию. В каждой из последующих моделей я вывожу r2 скор на обучающей и тестовой выборках."
   ]
  },
  {
   "cell_type": "code",
   "execution_count": 240,
   "metadata": {},
   "outputs": [
    {
     "name": "stdout",
     "output_type": "stream",
     "text": [
      "0.08809819946190478\n",
      "-0.016514627991753184\n"
     ]
    }
   ],
   "source": [
    "from sklearn.linear_model import LinearRegression\n",
    "reg = LinearRegression().fit(X_train, y_train)\n",
    "print(reg.score(X_train, y_train))\n",
    "print(reg.score(X_test, y_test))"
   ]
  },
  {
   "cell_type": "markdown",
   "metadata": {},
   "source": [
    "Скор на тестовой выборке получился отрицательный, то есть такая модель вообще не обучилась и не предсказывает метки. Попробуем использовать метод ближайшего соседа. Подребем колчество ближайших соседей и метрику близости признаков."
   ]
  },
  {
   "cell_type": "code",
   "execution_count": 245,
   "metadata": {},
   "outputs": [
    {
     "data": {
      "text/plain": [
       "{'n_neighbors': 48, 'p': 1, 'weights': 'uniform'}"
      ]
     },
     "execution_count": 245,
     "metadata": {},
     "output_type": "execute_result"
    }
   ],
   "source": [
    "from sklearn.model_selection import GridSearchCV\n",
    "scoring = {'r2': 'r2'}\n",
    "gs = GridSearchCV(KNeighborsRegressor(),\n",
    "                  param_grid={'n_neighbors': range(2, 50, 1), 'weights':['uniform', 'distance'], 'p':[1,2] },\n",
    "                  scoring=scoring, refit='r2', return_train_score=True, n_jobs=-1)\n",
    "gs.fit(X_train, y_train)\n",
    "gs.best_params_"
   ]
  },
  {
   "cell_type": "code",
   "execution_count": 246,
   "metadata": {},
   "outputs": [
    {
     "name": "stdout",
     "output_type": "stream",
     "text": [
      "0.1517006319094949\n",
      "0.05919827720921789\n"
     ]
    }
   ],
   "source": [
    "neigh = KNeighborsRegressor(n_neighbors=48,p=1)\n",
    "neigh.fit(X_train, y_train)\n",
    "print(neigh.score(X_train, y_train))\n",
    "print(neigh.score(X_test, y_test))"
   ]
  },
  {
   "cell_type": "markdown",
   "metadata": {},
   "source": [
    "Уже положительно, но не далеко ушло от нуля.\n",
    "Попробуем деревья решений: случайный лес и градиентный бустинг."
   ]
  },
  {
   "cell_type": "code",
   "execution_count": 247,
   "metadata": {},
   "outputs": [
    {
     "name": "stdout",
     "output_type": "stream",
     "text": [
      "0.29213141596360914\n",
      "0.17980887522235334\n"
     ]
    }
   ],
   "source": [
    "from sklearn.ensemble import RandomForestRegressor\n",
    "\n",
    "rf = RandomForestRegressor(n_estimators=1000,max_depth=3, random_state=0)\n",
    "rf.fit(X_train, y_train)\n",
    "print(rf.score(X_train, y_train))\n",
    "print(rf.score(X_test, y_test))"
   ]
  },
  {
   "cell_type": "code",
   "execution_count": 248,
   "metadata": {},
   "outputs": [
    {
     "name": "stdout",
     "output_type": "stream",
     "text": [
      "0.34985598509660343\n",
      "0.19793526220610524\n"
     ]
    }
   ],
   "source": [
    "from sklearn.ensemble import GradientBoostingRegressor as GBR\n",
    "gbr = GBR(n_estimators=50, max_depth=2)\n",
    "gbr.fit(X_train, y_train)\n",
    "print(gbr.score(X_train, y_train))\n",
    "print(gbr.score(X_test, y_test))"
   ]
  },
  {
   "cell_type": "markdown",
   "metadata": {},
   "source": [
    "Градиентный бустинг показывает $R^2$ уже почти 20%. Не ноль, но предсказания пока очень далеки от идеала.\n",
    "\n",
    "Чтобы понять, работает ли теория Беккера, оценим вероятность поимки преступника. На сайте, где я нашла часть данных о преступности, была также информация о раскрываемости преступлений.\n",
    "Поэтому предлагаю оценить вероятность поимки как отношения количества раскрытых преступлений к общему числу преступлений."
   ]
  },
  {
   "cell_type": "code",
   "execution_count": null,
   "metadata": {},
   "outputs": [],
   "source": []
  },
  {
   "cell_type": "code",
   "execution_count": 249,
   "metadata": {},
   "outputs": [],
   "source": [
    "url='https://realnoevremya.ru/attachments/1016'\n",
    "page_crime = requests.get(url)\n",
    "soup=BeautifulSoup(page_crime.text, 'html.parser')\n",
    "\n",
    "array=np.array([x.text.replace('\\n','').replace('\\t','').replace('\\r','').replace('.','').replace(',','.') for x in soup.findAll('table')[0].findAll('td')]).reshape(-1,7)[:,:-1]\n",
    "regions = array[1:,0]\n",
    "numbers = np.copy(array[1:,1:])\n",
    "for i,row in enumerate(array[1:,1:]):\n",
    "    for j,number in enumerate(row):\n",
    "        try:\n",
    "            numbers[i,j]=float(number)\n",
    "        except Exception as e:\n",
    "            numbers[i,j]=np.nan\n",
    "\n",
    "\n",
    "crime_count_df=pd.DataFrame({int(array[0,i]):numbers[:,i-1].astype(float) for i in range(1,len(array[0])-1)}, index=regions)\n",
    "crime_count_df=crime_count_df.unstack().to_frame().sort_index(level=1).rename(columns={0:'crime_count'})"
   ]
  },
  {
   "cell_type": "code",
   "execution_count": 250,
   "metadata": {},
   "outputs": [],
   "source": [
    "url='https://realnoevremya.ru/attachments/1018'\n",
    "page_crime = requests.get(url)\n",
    "soup=BeautifulSoup(page_crime.text, 'html.parser')\n",
    "\n",
    "array=np.array([x.text.replace('\\n','').replace('\\t','').replace('\\r','').replace('.','').replace(',','.') for x in soup.findAll('table')[0].findAll('td')]).reshape(-1,7)\n",
    "crime_solved_df=pd.DataFrame({int(array[0,i]):array[1:,i].astype(float) for i in range(1,len(array[0])-1)}, index=array[1:,0])\n",
    "crime_solved_df=crime_solved_df.unstack().to_frame().sort_index(level=1).rename(columns={0:'crime_solved'})"
   ]
  },
  {
   "cell_type": "code",
   "execution_count": 251,
   "metadata": {},
   "outputs": [],
   "source": [
    "crimes = crime_solved_df.join(crime_count_df).dropna()\n",
    "probabilities = crimes['crime_solved']/crimes['crime_count']"
   ]
  },
  {
   "cell_type": "code",
   "execution_count": 252,
   "metadata": {},
   "outputs": [],
   "source": [
    "crimes['probability'] = crime_solved_df['crime_solved']/crime_count_df['crime_count']"
   ]
  },
  {
   "cell_type": "markdown",
   "metadata": {},
   "source": [
    "Таблица crimes содержит информацию об общем числе преступлений и раскрываемости."
   ]
  },
  {
   "cell_type": "code",
   "execution_count": 255,
   "metadata": {},
   "outputs": [
    {
     "data": {
      "text/html": [
       "<div>\n",
       "<style scoped>\n",
       "    .dataframe tbody tr th:only-of-type {\n",
       "        vertical-align: middle;\n",
       "    }\n",
       "\n",
       "    .dataframe tbody tr th {\n",
       "        vertical-align: top;\n",
       "    }\n",
       "\n",
       "    .dataframe thead th {\n",
       "        text-align: right;\n",
       "    }\n",
       "</style>\n",
       "<table border=\"1\" class=\"dataframe\">\n",
       "  <thead>\n",
       "    <tr style=\"text-align: right;\">\n",
       "      <th></th>\n",
       "      <th></th>\n",
       "      <th>crime_solved</th>\n",
       "      <th>crime_count</th>\n",
       "      <th>probability</th>\n",
       "    </tr>\n",
       "  </thead>\n",
       "  <tbody>\n",
       "    <tr>\n",
       "      <th>2015</th>\n",
       "      <th>Алтайский край</th>\n",
       "      <td>26665.0</td>\n",
       "      <td>48582.0</td>\n",
       "      <td>0.548866</td>\n",
       "    </tr>\n",
       "    <tr>\n",
       "      <th>2016</th>\n",
       "      <th>Алтайский край</th>\n",
       "      <td>26039.0</td>\n",
       "      <td>44576.0</td>\n",
       "      <td>0.584148</td>\n",
       "    </tr>\n",
       "    <tr>\n",
       "      <th>2017</th>\n",
       "      <th>Алтайский край</th>\n",
       "      <td>23465.0</td>\n",
       "      <td>40055.0</td>\n",
       "      <td>0.585819</td>\n",
       "    </tr>\n",
       "    <tr>\n",
       "      <th>2018</th>\n",
       "      <th>Алтайский край</th>\n",
       "      <td>22786.0</td>\n",
       "      <td>38413.0</td>\n",
       "      <td>0.593185</td>\n",
       "    </tr>\n",
       "    <tr>\n",
       "      <th>2015</th>\n",
       "      <th>Амурская область</th>\n",
       "      <td>8917.0</td>\n",
       "      <td>19475.0</td>\n",
       "      <td>0.457869</td>\n",
       "    </tr>\n",
       "  </tbody>\n",
       "</table>\n",
       "</div>"
      ],
      "text/plain": [
       "                       crime_solved  crime_count  probability\n",
       "2015 Алтайский край         26665.0      48582.0     0.548866\n",
       "2016 Алтайский край         26039.0      44576.0     0.584148\n",
       "2017 Алтайский край         23465.0      40055.0     0.585819\n",
       "2018 Алтайский край         22786.0      38413.0     0.593185\n",
       "2015 Амурская область        8917.0      19475.0     0.457869"
      ]
     },
     "execution_count": 255,
     "metadata": {},
     "output_type": "execute_result"
    }
   ],
   "source": [
    "crimes.head()"
   ]
  },
  {
   "cell_type": "markdown",
   "metadata": {},
   "source": [
    "Величины $U(W_L)$ оценим как средний заработок. Остается $U(W_S)$ и $S$. \n",
    "Так как мы оцениваем очень обобщенную модель, без привязки к конкретным преступлениям, то предположим, что потери приступника при поимке пропорциональны зарплате (вероятно, пойманный преступник лишается работы в течение некоторого времени не получает зарплату). Пусть штраф составляет полугодовую заработную плату. Тогда можно оценить, сколько должно приносить преступление в работающей теории Беккера:\n",
    "$$(1-p)U(W_S)-pS>U(W_L)$$\n",
    "$$(1-p)*mean(U(W_S))-p*mean(S)>mean(U(W_L))$$\n",
    "$$mean(U(W_S))>\\frac{p*mean(S)+mean(U(W_L))}{1-p}$$"
   ]
  },
  {
   "cell_type": "code",
   "execution_count": 256,
   "metadata": {},
   "outputs": [],
   "source": [
    "Bekker = crimes.join(salary_df).dropna()"
   ]
  },
  {
   "cell_type": "code",
   "execution_count": 268,
   "metadata": {},
   "outputs": [],
   "source": [
    "Bekker['crime_cost']=((Bekker['salary']+Bekker['probability']*Bekker['salary']*6)/(1-Bekker['probability']))"
   ]
  },
  {
   "cell_type": "code",
   "execution_count": 269,
   "metadata": {},
   "outputs": [
    {
     "data": {
      "text/plain": [
       "275547.31464755005"
      ]
     },
     "execution_count": 269,
     "metadata": {},
     "output_type": "execute_result"
    }
   ],
   "source": [
    "np.mean(Bekker['crime_cost'])"
   ]
  },
  {
   "cell_type": "markdown",
   "metadata": {},
   "source": [
    "То есть, чтобы человеку в среднем было выгоднее совершить преступление, чем не совершать, выгода от преступления должна быть порядка 275 тыс.р. "
   ]
  },
  {
   "cell_type": "code",
   "execution_count": 270,
   "metadata": {},
   "outputs": [
    {
     "data": {
      "text/html": [
       "<div>\n",
       "<style scoped>\n",
       "    .dataframe tbody tr th:only-of-type {\n",
       "        vertical-align: middle;\n",
       "    }\n",
       "\n",
       "    .dataframe tbody tr th {\n",
       "        vertical-align: top;\n",
       "    }\n",
       "\n",
       "    .dataframe thead th {\n",
       "        text-align: right;\n",
       "    }\n",
       "</style>\n",
       "<table border=\"1\" class=\"dataframe\">\n",
       "  <thead>\n",
       "    <tr style=\"text-align: right;\">\n",
       "      <th></th>\n",
       "      <th></th>\n",
       "      <th>crime_solved</th>\n",
       "      <th>crime_count</th>\n",
       "      <th>probability</th>\n",
       "      <th>salary</th>\n",
       "      <th>crime_cost</th>\n",
       "    </tr>\n",
       "  </thead>\n",
       "  <tbody>\n",
       "    <tr>\n",
       "      <th>2015</th>\n",
       "      <th>Воронежская область</th>\n",
       "      <td>12701.0</td>\n",
       "      <td>39298.0</td>\n",
       "      <td>0.323197</td>\n",
       "      <td>24906</td>\n",
       "      <td>108160</td>\n",
       "    </tr>\n",
       "    <tr>\n",
       "      <th>2017</th>\n",
       "      <th>Ивановская область</th>\n",
       "      <td>5675.0</td>\n",
       "      <td>15943.0</td>\n",
       "      <td>0.355956</td>\n",
       "      <td>23470</td>\n",
       "      <td>114271</td>\n",
       "    </tr>\n",
       "    <tr>\n",
       "      <th>2015</th>\n",
       "      <th>Псковская область</th>\n",
       "      <td>4623.0</td>\n",
       "      <td>10944.0</td>\n",
       "      <td>0.422423</td>\n",
       "      <td>21553</td>\n",
       "      <td>131896</td>\n",
       "    </tr>\n",
       "    <tr>\n",
       "      <th>2016</th>\n",
       "      <th>Ивановская область</th>\n",
       "      <td>5984.0</td>\n",
       "      <td>14405.0</td>\n",
       "      <td>0.415411</td>\n",
       "      <td>22144</td>\n",
       "      <td>132293</td>\n",
       "    </tr>\n",
       "    <tr>\n",
       "      <th>2017</th>\n",
       "      <th>Калининградская область</th>\n",
       "      <td>5555.0</td>\n",
       "      <td>17231.0</td>\n",
       "      <td>0.322384</td>\n",
       "      <td>30580</td>\n",
       "      <td>132422</td>\n",
       "    </tr>\n",
       "    <tr>\n",
       "      <th>...</th>\n",
       "      <th>...</th>\n",
       "      <td>...</td>\n",
       "      <td>...</td>\n",
       "      <td>...</td>\n",
       "      <td>...</td>\n",
       "      <td>...</td>\n",
       "    </tr>\n",
       "    <tr>\n",
       "      <th>2018</th>\n",
       "      <th>Чеченская Республика</th>\n",
       "      <td>2673.0</td>\n",
       "      <td>3330.0</td>\n",
       "      <td>0.802703</td>\n",
       "      <td>26177</td>\n",
       "      <td>771684</td>\n",
       "    </tr>\n",
       "    <tr>\n",
       "      <th>2017</th>\n",
       "      <th>Республика Саха (Якутия)</th>\n",
       "      <td>7956.0</td>\n",
       "      <td>12399.0</td>\n",
       "      <td>0.641665</td>\n",
       "      <td>62206</td>\n",
       "      <td>841944</td>\n",
       "    </tr>\n",
       "    <tr>\n",
       "      <th>2018</th>\n",
       "      <th>Республика Саха (Якутия)</th>\n",
       "      <td>7586.0</td>\n",
       "      <td>11936.0</td>\n",
       "      <td>0.635556</td>\n",
       "      <td>68871</td>\n",
       "      <td>909604</td>\n",
       "    </tr>\n",
       "    <tr>\n",
       "      <th>2016</th>\n",
       "      <th>Магаданская область</th>\n",
       "      <td>1904.0</td>\n",
       "      <td>2986.0</td>\n",
       "      <td>0.637642</td>\n",
       "      <td>69769</td>\n",
       "      <td>929179</td>\n",
       "    </tr>\n",
       "    <tr>\n",
       "      <th>2017</th>\n",
       "      <th>Магаданская область</th>\n",
       "      <td>1717.0</td>\n",
       "      <td>2771.0</td>\n",
       "      <td>0.619632</td>\n",
       "      <td>75710</td>\n",
       "      <td>939048</td>\n",
       "    </tr>\n",
       "  </tbody>\n",
       "</table>\n",
       "<p>281 rows × 5 columns</p>\n",
       "</div>"
      ],
      "text/plain": [
       "                               crime_solved  crime_count  probability salary  \\\n",
       "2015 Воронежская область            12701.0      39298.0     0.323197  24906   \n",
       "2017 Ивановская область              5675.0      15943.0     0.355956  23470   \n",
       "2015 Псковская область               4623.0      10944.0     0.422423  21553   \n",
       "2016 Ивановская область              5984.0      14405.0     0.415411  22144   \n",
       "2017 Калининградская область         5555.0      17231.0     0.322384  30580   \n",
       "...                                     ...          ...          ...    ...   \n",
       "2018 Чеченская Республика            2673.0       3330.0     0.802703  26177   \n",
       "2017 Республика Саха (Якутия)        7956.0      12399.0     0.641665  62206   \n",
       "2018 Республика Саха (Якутия)        7586.0      11936.0     0.635556  68871   \n",
       "2016 Магаданская область             1904.0       2986.0     0.637642  69769   \n",
       "2017 Магаданская область             1717.0       2771.0     0.619632  75710   \n",
       "\n",
       "                              crime_cost  \n",
       "2015 Воронежская область          108160  \n",
       "2017 Ивановская область           114271  \n",
       "2015 Псковская область            131896  \n",
       "2016 Ивановская область           132293  \n",
       "2017 Калининградская область      132422  \n",
       "...                                  ...  \n",
       "2018 Чеченская Республика         771684  \n",
       "2017 Республика Саха (Якутия)     841944  \n",
       "2018 Республика Саха (Якутия)     909604  \n",
       "2016 Магаданская область          929179  \n",
       "2017 Магаданская область          939048  \n",
       "\n",
       "[281 rows x 5 columns]"
      ]
     },
     "execution_count": 270,
     "metadata": {},
     "output_type": "execute_result"
    }
   ],
   "source": [
    "Bekker.sort_values(by='crime_cost')"
   ]
  },
  {
   "cell_type": "markdown",
   "metadata": {},
   "source": [
    "Самые \"дешевые\" преступления были в Воронежской области в 2015, а самые \"дорогие\" -- в Магаданской области в 2017, выгода должна быть почти миллион."
   ]
  },
  {
   "cell_type": "code",
   "execution_count": null,
   "metadata": {},
   "outputs": [],
   "source": []
  },
  {
   "cell_type": "markdown",
   "metadata": {},
   "source": [
    "### User model"
   ]
  },
  {
   "cell_type": "markdown",
   "metadata": {},
   "source": [
    "Теперь попробуем улучшить модель. Для начала обойдемся теми же признаками: безработицей и зарплатой, но преобразуем их, посчитав обратную величину, корень, лорафим и их произведение"
   ]
  },
  {
   "cell_type": "code",
   "execution_count": 271,
   "metadata": {},
   "outputs": [],
   "source": [
    "functions=[]\n",
    "functions.append(lambda x: 1/x)\n",
    "functions.append(lambda x: x**.5)\n",
    "functions.append(lambda x: np.log(x))\n",
    "# functions.append(lambda x: np.exp(x)/np.sum(np.exp(x)))"
   ]
  },
  {
   "cell_type": "code",
   "execution_count": 272,
   "metadata": {},
   "outputs": [
    {
     "name": "stdout",
     "output_type": "stream",
     "text": [
      "0 (1197, 3)\n",
      "0 (1197, 4)\n",
      "0 (1197, 5)\n",
      "1 (1197, 6)\n",
      "1 (1197, 7)\n",
      "1 (1197, 8)\n"
     ]
    }
   ],
   "source": [
    "X = X[:,:2]\n",
    "for i in range(2):\n",
    "    for fn in functions:\n",
    "        X =np.concatenate((X,fn(X[:,i][:,None])), axis=1)\n",
    "        print(i, X.shape)"
   ]
  },
  {
   "cell_type": "code",
   "execution_count": 273,
   "metadata": {},
   "outputs": [],
   "source": [
    "X=np.concatenate((X,(X[:,0]*X[:,1])[:,None]), axis=1)"
   ]
  },
  {
   "cell_type": "code",
   "execution_count": 274,
   "metadata": {},
   "outputs": [],
   "source": [
    "X_train, X_test, y_train, y_test = train_test_split(\n",
    "    X[:,2:], y, test_size=0.25, shuffle=True,random_state=42)"
   ]
  },
  {
   "cell_type": "markdown",
   "metadata": {},
   "source": [
    "Линейная регрессия уже начала чуть-чуть справляться."
   ]
  },
  {
   "cell_type": "code",
   "execution_count": 276,
   "metadata": {},
   "outputs": [
    {
     "name": "stdout",
     "output_type": "stream",
     "text": [
      "0.18545571462481314\n",
      "0.13286680522068373\n"
     ]
    }
   ],
   "source": [
    "reg = LinearRegression().fit(X_train, y_train)\n",
    "print(reg.score(X_train, y_train))\n",
    "print(reg.score(X_test, y_test))"
   ]
  },
  {
   "cell_type": "markdown",
   "metadata": {},
   "source": [
    "Подберем параметры для случайного леса и градиентного бустинга."
   ]
  },
  {
   "cell_type": "code",
   "execution_count": 280,
   "metadata": {},
   "outputs": [
    {
     "data": {
      "text/plain": [
       "{'max_depth': 3, 'n_estimators': 100}"
      ]
     },
     "execution_count": 280,
     "metadata": {},
     "output_type": "execute_result"
    }
   ],
   "source": [
    "scoring = {'r2': 'r2'}\n",
    "gs = GridSearchCV(RandomForestRegressor(),\n",
    "                  param_grid={'n_estimators': range(100, 401, 100), 'max_depth':[1,2,3],  },\n",
    "                  scoring=scoring, refit='r2', return_train_score=True, n_jobs=-1)\n",
    "gs.fit(X_train, y_train)\n",
    "gs.best_params_"
   ]
  },
  {
   "cell_type": "code",
   "execution_count": 281,
   "metadata": {},
   "outputs": [
    {
     "name": "stdout",
     "output_type": "stream",
     "text": [
      "0.3057475815272708\n",
      "0.20534732215548102\n"
     ]
    }
   ],
   "source": [
    "rf = RandomForestRegressor(n_estimators=400,max_depth=3, random_state=0)\n",
    "rf.fit(X_train, y_train)\n",
    "print(rf.score(X_train, y_train))\n",
    "print(rf.score(X_test, y_test))"
   ]
  },
  {
   "cell_type": "code",
   "execution_count": 282,
   "metadata": {},
   "outputs": [
    {
     "data": {
      "text/plain": [
       "{'max_depth': 1, 'max_features': 2, 'n_estimators': 200}"
      ]
     },
     "execution_count": 282,
     "metadata": {},
     "output_type": "execute_result"
    }
   ],
   "source": [
    "gs = GridSearchCV(GBR(),\n",
    "                  param_grid={'n_estimators': range(100, 1001, 100), 'max_depth':[1,2,3], 'max_features':[1,2] },\n",
    "                  scoring=scoring, refit='r2', return_train_score=True,n_jobs=-1)\n",
    "gs.fit(X_train, y_train)\n",
    "gs.best_params_"
   ]
  },
  {
   "cell_type": "code",
   "execution_count": 283,
   "metadata": {},
   "outputs": [
    {
     "name": "stdout",
     "output_type": "stream",
     "text": [
      "0.3588246548606987\n",
      "0.21479881412612722\n"
     ]
    }
   ],
   "source": [
    "gbr = GBR(n_estimators=400, max_depth=1, max_features=2)\n",
    "gbr.fit(X_train, y_train)\n",
    "print(gbr.score(X_train, y_train))\n",
    "print(gbr.score(X_test, y_test))"
   ]
  },
  {
   "cell_type": "markdown",
   "metadata": {},
   "source": [
    "Качество моделей на деревьях улучшилось совсем немного.\n",
    "Добавим еще средние признаки безработицы по годам и регионам."
   ]
  },
  {
   "cell_type": "code",
   "execution_count": 157,
   "metadata": {},
   "outputs": [],
   "source": [
    "year_mean_unemp = unemp.agg(['mean'])\n",
    "year_mean_unemp = pd.DataFrame({col_name:len(unemp)*list(year_mean_unemp[col_name]) for col_name in unemp.columns},\n",
    "                              index=unemp.index)\n",
    "year_mean_unemp = year_mean_unemp.unstack().to_frame().sort_index(level=1).rename(columns={0:'year_mean_unemp'})\n",
    "\n",
    "region_mean_unemp = unemp.agg(['mean'], axis=1)\n",
    "region_mean_unemp = pd.DataFrame({idx:region_mean_unemp['mean'] for idx in unemp.columns}, index=unemp.index)\n",
    "region_mean_unemp = region_mean_unemp.unstack().to_frame().sort_index(level=1).rename(columns={0:'region_mean_unemp'})"
   ]
  },
  {
   "cell_type": "code",
   "execution_count": 305,
   "metadata": {},
   "outputs": [],
   "source": [
    "full_table = (full_table.join(year_mean_unemp).\n",
    "                        join(region_mean_unemp))"
   ]
  },
  {
   "cell_type": "code",
   "execution_count": 306,
   "metadata": {},
   "outputs": [
    {
     "data": {
      "text/html": [
       "<div>\n",
       "<style scoped>\n",
       "    .dataframe tbody tr th:only-of-type {\n",
       "        vertical-align: middle;\n",
       "    }\n",
       "\n",
       "    .dataframe tbody tr th {\n",
       "        vertical-align: top;\n",
       "    }\n",
       "\n",
       "    .dataframe thead th {\n",
       "        text-align: right;\n",
       "    }\n",
       "</style>\n",
       "<table border=\"1\" class=\"dataframe\">\n",
       "  <thead>\n",
       "    <tr style=\"text-align: right;\">\n",
       "      <th></th>\n",
       "      <th></th>\n",
       "      <th>criminality</th>\n",
       "      <th>salary</th>\n",
       "      <th>unemployment</th>\n",
       "      <th>year_mean_unemp</th>\n",
       "      <th>region_mean_unemp</th>\n",
       "    </tr>\n",
       "  </thead>\n",
       "  <tbody>\n",
       "    <tr>\n",
       "      <th>1990</th>\n",
       "      <th>Алтайский край</th>\n",
       "      <td>1216.0</td>\n",
       "      <td>NaN</td>\n",
       "      <td>NaN</td>\n",
       "      <td>NaN</td>\n",
       "      <td>NaN</td>\n",
       "    </tr>\n",
       "    <tr>\n",
       "      <th>2000</th>\n",
       "      <th>Алтайский край</th>\n",
       "      <td>2143.0</td>\n",
       "      <td>1364.8</td>\n",
       "      <td>11.7</td>\n",
       "      <td>12.098925</td>\n",
       "      <td>8.525</td>\n",
       "    </tr>\n",
       "    <tr>\n",
       "      <th>2001</th>\n",
       "      <th>Алтайский край</th>\n",
       "      <td>2093.0</td>\n",
       "      <td>1870.4</td>\n",
       "      <td>10.0</td>\n",
       "      <td>10.481720</td>\n",
       "      <td>8.525</td>\n",
       "    </tr>\n",
       "    <tr>\n",
       "      <th>2002</th>\n",
       "      <th>Алтайский край</th>\n",
       "      <td>2057.0</td>\n",
       "      <td>2567.6</td>\n",
       "      <td>8.3</td>\n",
       "      <td>9.337634</td>\n",
       "      <td>8.525</td>\n",
       "    </tr>\n",
       "    <tr>\n",
       "      <th>2003</th>\n",
       "      <th>Алтайский край</th>\n",
       "      <td>2434.0</td>\n",
       "      <td>3147.5</td>\n",
       "      <td>12.3</td>\n",
       "      <td>9.872043</td>\n",
       "      <td>8.525</td>\n",
       "    </tr>\n",
       "  </tbody>\n",
       "</table>\n",
       "</div>"
      ],
      "text/plain": [
       "                     criminality  salary  unemployment  year_mean_unemp  \\\n",
       "1990 Алтайский край       1216.0     NaN           NaN              NaN   \n",
       "2000 Алтайский край       2143.0  1364.8          11.7        12.098925   \n",
       "2001 Алтайский край       2093.0  1870.4          10.0        10.481720   \n",
       "2002 Алтайский край       2057.0  2567.6           8.3         9.337634   \n",
       "2003 Алтайский край       2434.0  3147.5          12.3         9.872043   \n",
       "\n",
       "                     region_mean_unemp  \n",
       "1990 Алтайский край                NaN  \n",
       "2000 Алтайский край              8.525  \n",
       "2001 Алтайский край              8.525  \n",
       "2002 Алтайский край              8.525  \n",
       "2003 Алтайский край              8.525  "
      ]
     },
     "execution_count": 306,
     "metadata": {},
     "output_type": "execute_result"
    }
   ],
   "source": [
    "full_table.head()"
   ]
  },
  {
   "cell_type": "code",
   "execution_count": null,
   "metadata": {},
   "outputs": [],
   "source": []
  },
  {
   "cell_type": "code",
   "execution_count": null,
   "metadata": {},
   "outputs": [],
   "source": []
  },
  {
   "cell_type": "markdown",
   "metadata": {},
   "source": [
    "Кроме того, добавим данные об абсолютном количестве безработных и занятости (это не то же самое, что безработица, т.к. безработица не учитывает людей, не входящих в рабочую силу, а занятость - учитывает). \n",
    "И добавим данные о доходах (они отличаются от зарплат, т.к. доходы могут быть не от работы, а, например, от сдачи жилья)"
   ]
  },
  {
   "cell_type": "code",
   "execution_count": 288,
   "metadata": {},
   "outputs": [],
   "source": [
    "employment_url='https://www.gks.ru/storage/mediabank/trud5_15-72.xls'\n",
    "urllib.request.urlretrieve(employment_url, join(os.getcwd(),'employment.xls'))\n",
    "emp = pd.read_excel(join(os.getcwd(),'employment.xls'), sheet_name='Год 15-72 лет ', header=3, index_col=0)\n",
    "emp=emp.replace('…', np.nan)\n",
    "emp_df=emp.unstack().to_frame().sort_index(level=1).rename(columns={0:'employment'})"
   ]
  },
  {
   "cell_type": "code",
   "execution_count": 289,
   "metadata": {},
   "outputs": [],
   "source": [
    "unemployment_count_url='https://www.gks.ru/storage/mediabank/trud3_15-72.xls'\n",
    "urllib.request.urlretrieve(unemployment_count_url, join(os.getcwd(),'unemployment_count.xls'))\n",
    "unemp_count = pd.read_excel(join(os.getcwd(),'unemployment_count.xls'), sheet_name='Год 15-72 лет ', header=3, index_col=0)\n",
    "unemp_count=unemp_count.replace('…', np.nan)\n",
    "unemp_count_df=unemp_count.unstack().to_frame().sort_index(level=1).rename(columns={0:'unemployment_count'})"
   ]
  },
  {
   "cell_type": "code",
   "execution_count": 290,
   "metadata": {},
   "outputs": [],
   "source": [
    "income_url='http://www.gks.ru/free_doc/new_site/population/urov/2009-2012kv.xls'\n",
    "urllib.request.urlretrieve(unemployment_count_url, join(os.getcwd(),'2009-2012kv.xls'))\n",
    "\n",
    "income = pd.read_excel(join(os.getcwd(),'2009-2012kv.xls'), sheet_name='Год 15-72 лет ', header=3, index_col=0)\n",
    "income=income.replace('…', np.nan)\n",
    "income_df=income.unstack().to_frame().sort_index(level=1).rename(columns={0:'income'})"
   ]
  },
  {
   "cell_type": "markdown",
   "metadata": {},
   "source": [
    "И средние этих показателей по годам/регионам."
   ]
  },
  {
   "cell_type": "code",
   "execution_count": 291,
   "metadata": {},
   "outputs": [],
   "source": [
    "year_mean_income = income.agg(['mean'])\n",
    "year_mean_income = pd.DataFrame({col_name:len(income)*list(year_mean_income[col_name]) for col_name in income.columns},\n",
    "                              index=income.index)\n",
    "year_mean_income = year_mean_income.unstack().to_frame().sort_index(level=1).rename(columns={0:'year_mean_income'})\n",
    "\n",
    "region_mean_income = income.agg(['mean'], axis=1)\n",
    "region_mean_income = pd.DataFrame({idx:region_mean_income['mean'] for idx in income.columns}, index=income.index)\n",
    "region_mean_income = region_mean_income.unstack().to_frame().sort_index(level=1).rename(columns={0:'region_mean_income'})"
   ]
  },
  {
   "cell_type": "code",
   "execution_count": 292,
   "metadata": {},
   "outputs": [],
   "source": [
    "year_mean_emp = emp.agg(['mean'])\n",
    "year_mean_emp = pd.DataFrame({col_name:len(emp)*list(year_mean_emp[col_name]) for col_name in emp.columns},\n",
    "                              index=emp.index)\n",
    "year_mean_emp = year_mean_emp.unstack().to_frame().sort_index(level=1).rename(columns={0:'year_mean_emp'})\n",
    "\n",
    "region_mean_emp = emp.agg(['mean'], axis=1)\n",
    "region_mean_emp = pd.DataFrame({idx:region_mean_emp['mean'] for idx in emp.columns}, index=emp.index)\n",
    "region_mean_emp = region_mean_emp.unstack().to_frame().sort_index(level=1).rename(columns={0:'region_mean_emp'})"
   ]
  },
  {
   "cell_type": "code",
   "execution_count": 307,
   "metadata": {},
   "outputs": [],
   "source": [
    "full_table = (full_table.join(income_df)\n",
    "                        .join(emp_df)\n",
    "                        .join(unemp_count_df)\n",
    "                        .join(year_mean_income)\n",
    "                        .join(region_mean_income)\n",
    "                        .join(year_mean_emp)\n",
    "                        .join(region_mean_emp)\n",
    "             ).dropna()"
   ]
  },
  {
   "cell_type": "markdown",
   "metadata": {},
   "source": [
    "Вот как теперь выглядит таблица признаков."
   ]
  },
  {
   "cell_type": "code",
   "execution_count": 308,
   "metadata": {},
   "outputs": [
    {
     "data": {
      "text/html": [
       "<div>\n",
       "<style scoped>\n",
       "    .dataframe tbody tr th:only-of-type {\n",
       "        vertical-align: middle;\n",
       "    }\n",
       "\n",
       "    .dataframe tbody tr th {\n",
       "        vertical-align: top;\n",
       "    }\n",
       "\n",
       "    .dataframe thead th {\n",
       "        text-align: right;\n",
       "    }\n",
       "</style>\n",
       "<table border=\"1\" class=\"dataframe\">\n",
       "  <thead>\n",
       "    <tr style=\"text-align: right;\">\n",
       "      <th></th>\n",
       "      <th></th>\n",
       "      <th>criminality</th>\n",
       "      <th>salary</th>\n",
       "      <th>unemployment</th>\n",
       "      <th>year_mean_unemp</th>\n",
       "      <th>region_mean_unemp</th>\n",
       "      <th>income</th>\n",
       "      <th>employment</th>\n",
       "      <th>unemployment_count</th>\n",
       "      <th>year_mean_income</th>\n",
       "      <th>region_mean_income</th>\n",
       "      <th>year_mean_emp</th>\n",
       "      <th>region_mean_emp</th>\n",
       "    </tr>\n",
       "  </thead>\n",
       "  <tbody>\n",
       "    <tr>\n",
       "      <th>2000</th>\n",
       "      <th>Алтайский край</th>\n",
       "      <td>2143.0</td>\n",
       "      <td>1364.8</td>\n",
       "      <td>11.7</td>\n",
       "      <td>12.098925</td>\n",
       "      <td>8.525</td>\n",
       "      <td>148.973</td>\n",
       "      <td>55.4</td>\n",
       "      <td>148.973</td>\n",
       "      <td>251.308753</td>\n",
       "      <td>104.7034</td>\n",
       "      <td>57.713978</td>\n",
       "      <td>58.98</td>\n",
       "    </tr>\n",
       "    <tr>\n",
       "      <th>2001</th>\n",
       "      <th>Алтайский край</th>\n",
       "      <td>2093.0</td>\n",
       "      <td>1870.4</td>\n",
       "      <td>10.0</td>\n",
       "      <td>10.481720</td>\n",
       "      <td>8.525</td>\n",
       "      <td>123.691</td>\n",
       "      <td>55.0</td>\n",
       "      <td>123.691</td>\n",
       "      <td>209.820022</td>\n",
       "      <td>104.7034</td>\n",
       "      <td>57.694624</td>\n",
       "      <td>58.98</td>\n",
       "    </tr>\n",
       "    <tr>\n",
       "      <th>2002</th>\n",
       "      <th>Алтайский край</th>\n",
       "      <td>2057.0</td>\n",
       "      <td>2567.6</td>\n",
       "      <td>8.3</td>\n",
       "      <td>9.337634</td>\n",
       "      <td>8.525</td>\n",
       "      <td>106.076</td>\n",
       "      <td>58.1</td>\n",
       "      <td>106.076</td>\n",
       "      <td>186.075376</td>\n",
       "      <td>104.7034</td>\n",
       "      <td>58.972043</td>\n",
       "      <td>58.98</td>\n",
       "    </tr>\n",
       "    <tr>\n",
       "      <th>2003</th>\n",
       "      <th>Алтайский край</th>\n",
       "      <td>2434.0</td>\n",
       "      <td>3147.5</td>\n",
       "      <td>12.3</td>\n",
       "      <td>9.872043</td>\n",
       "      <td>8.525</td>\n",
       "      <td>155.305</td>\n",
       "      <td>54.9</td>\n",
       "      <td>155.305</td>\n",
       "      <td>193.757344</td>\n",
       "      <td>104.7034</td>\n",
       "      <td>58.497849</td>\n",
       "      <td>58.98</td>\n",
       "    </tr>\n",
       "    <tr>\n",
       "      <th>2004</th>\n",
       "      <th>Алтайский край</th>\n",
       "      <td>2315.0</td>\n",
       "      <td>3955.3</td>\n",
       "      <td>9.1</td>\n",
       "      <td>9.347312</td>\n",
       "      <td>8.525</td>\n",
       "      <td>117.596</td>\n",
       "      <td>59.0</td>\n",
       "      <td>117.596</td>\n",
       "      <td>184.970333</td>\n",
       "      <td>104.7034</td>\n",
       "      <td>59.308602</td>\n",
       "      <td>58.98</td>\n",
       "    </tr>\n",
       "  </tbody>\n",
       "</table>\n",
       "</div>"
      ],
      "text/plain": [
       "                     criminality  salary  unemployment  year_mean_unemp  \\\n",
       "2000 Алтайский край       2143.0  1364.8          11.7        12.098925   \n",
       "2001 Алтайский край       2093.0  1870.4          10.0        10.481720   \n",
       "2002 Алтайский край       2057.0  2567.6           8.3         9.337634   \n",
       "2003 Алтайский край       2434.0  3147.5          12.3         9.872043   \n",
       "2004 Алтайский край       2315.0  3955.3           9.1         9.347312   \n",
       "\n",
       "                     region_mean_unemp   income  employment  \\\n",
       "2000 Алтайский край              8.525  148.973        55.4   \n",
       "2001 Алтайский край              8.525  123.691        55.0   \n",
       "2002 Алтайский край              8.525  106.076        58.1   \n",
       "2003 Алтайский край              8.525  155.305        54.9   \n",
       "2004 Алтайский край              8.525  117.596        59.0   \n",
       "\n",
       "                     unemployment_count  year_mean_income  region_mean_income  \\\n",
       "2000 Алтайский край             148.973        251.308753            104.7034   \n",
       "2001 Алтайский край             123.691        209.820022            104.7034   \n",
       "2002 Алтайский край             106.076        186.075376            104.7034   \n",
       "2003 Алтайский край             155.305        193.757344            104.7034   \n",
       "2004 Алтайский край             117.596        184.970333            104.7034   \n",
       "\n",
       "                     year_mean_emp  region_mean_emp  \n",
       "2000 Алтайский край      57.713978            58.98  \n",
       "2001 Алтайский край      57.694624            58.98  \n",
       "2002 Алтайский край      58.972043            58.98  \n",
       "2003 Алтайский край      58.497849            58.98  \n",
       "2004 Алтайский край      59.308602            58.98  "
      ]
     },
     "execution_count": 308,
     "metadata": {},
     "output_type": "execute_result"
    }
   ],
   "source": [
    "full_table.head()"
   ]
  },
  {
   "cell_type": "markdown",
   "metadata": {},
   "source": [
    "Построим по этой таблице матрицу признаков, метки, разделим на трейн/тест и обучим модели."
   ]
  },
  {
   "cell_type": "code",
   "execution_count": 309,
   "metadata": {},
   "outputs": [
    {
     "name": "stdout",
     "output_type": "stream",
     "text": [
      "salary\n",
      "unemployment\n",
      "year_mean_unemp\n",
      "region_mean_unemp\n",
      "income\n",
      "employment\n",
      "unemployment_count\n",
      "year_mean_income\n",
      "region_mean_income\n",
      "year_mean_emp\n",
      "region_mean_emp\n"
     ]
    }
   ],
   "source": [
    "X = np.zeros((full_table.shape[0], full_table.shape[1]-1))\n",
    "for i, col_name in enumerate(full_table.columns[1:]):\n",
    "    print(col_name)\n",
    "    X[:,i] = full_table[col_name]\n",
    "y  = (np.array(full_table['criminality']))"
   ]
  },
  {
   "cell_type": "code",
   "execution_count": 310,
   "metadata": {},
   "outputs": [],
   "source": [
    "X_train, X_test, y_train, y_test = train_test_split(\n",
    "    X, y, test_size=0.25, shuffle=True,random_state=42)"
   ]
  },
  {
   "cell_type": "code",
   "execution_count": 311,
   "metadata": {},
   "outputs": [
    {
     "data": {
      "text/plain": [
       "{'max_depth': 13, 'max_features': 7, 'n_estimators': 100}"
      ]
     },
     "execution_count": 311,
     "metadata": {},
     "output_type": "execute_result"
    }
   ],
   "source": [
    "gs = GridSearchCV(RandomForestRegressor(),\n",
    "                  param_grid={'n_estimators': range(100, 200, 100), \n",
    "                              'max_depth':range(1,21,2), \n",
    "                              'max_features':range(1,13,2)},\n",
    "                  scoring=scoring, refit='r2', return_train_score=True, n_jobs=-1)\n",
    "gs.fit(X_train, y_train)\n",
    "gs.best_params_"
   ]
  },
  {
   "cell_type": "code",
   "execution_count": 313,
   "metadata": {},
   "outputs": [
    {
     "name": "stdout",
     "output_type": "stream",
     "text": [
      "0.9658024515673175\n",
      "0.7498928447642537\n"
     ]
    }
   ],
   "source": [
    "rf = RandomForestRegressor(n_estimators=100, max_depth=13, max_features=7, random_state=0)\n",
    "rf.fit(X_train, y_train)\n",
    "print(rf.score(X_train, y_train))\n",
    "print(rf.score(X_test, y_test))"
   ]
  },
  {
   "cell_type": "code",
   "execution_count": 316,
   "metadata": {},
   "outputs": [
    {
     "data": {
      "text/plain": [
       "{'max_depth': 5, 'max_features': 11, 'n_estimators': 100}"
      ]
     },
     "execution_count": 316,
     "metadata": {},
     "output_type": "execute_result"
    }
   ],
   "source": [
    "gs = GridSearchCV(GBR(),\n",
    "                  param_grid={'n_estimators': [100], 'max_depth':range(5,21,2), 'max_features':range(1,13,2) },\n",
    "                  scoring=scoring, refit='r2', return_train_score=True, n_jobs=-1)\n",
    "gs.fit(X_train, y_train)\n",
    "gs.best_params_"
   ]
  },
  {
   "cell_type": "code",
   "execution_count": 323,
   "metadata": {},
   "outputs": [
    {
     "name": "stdout",
     "output_type": "stream",
     "text": [
      "0.9735604236158247\n",
      "0.8576112764160808\n"
     ]
    }
   ],
   "source": [
    "gbr = GBR(n_estimators=100, max_depth=5, max_features=11, random_state=123)\n",
    "gbr.fit(X_train, y_train)\n",
    "print(gbr.score(X_train, y_train))\n",
    "print(gbr.score(X_test, y_test))"
   ]
  },
  {
   "cell_type": "markdown",
   "metadata": {},
   "source": [
    "И случайный лес, и градиентный бустинг уже дают гораздо лучший результат!\n",
    "$$R^2 = 85.76\\%$$"
   ]
  },
  {
   "cell_type": "markdown",
   "metadata": {},
   "source": [
    "Добавим функции от признаков, произведение з/п и безработицы, доходов и безработицы, а также отношение зарплаты и доходов."
   ]
  },
  {
   "cell_type": "code",
   "execution_count": 325,
   "metadata": {},
   "outputs": [],
   "source": [
    "current_features_count=X.shape[1]\n",
    "for i in range(current_features_count):\n",
    "    for fn in functions:\n",
    "        X =np.concatenate((X,fn(X[:,i][:,None])), axis=1)\n",
    "#         print(i, X.shape)"
   ]
  },
  {
   "cell_type": "code",
   "execution_count": 326,
   "metadata": {},
   "outputs": [],
   "source": [
    "X=np.concatenate((X,(X[:,0]*X[:,1])[:,None]), axis=1)\n",
    "X=np.concatenate((X,(X[:,6]*X[:,1])[:,None]), axis=1)\n",
    "X=np.concatenate((X,(X[:,0]/X[:,6])[:,None]), axis=1)\n"
   ]
  },
  {
   "cell_type": "code",
   "execution_count": 327,
   "metadata": {},
   "outputs": [],
   "source": [
    "X_train, X_test, y_train, y_test = train_test_split(X, y, \n",
    "                                                    test_size=0.25, \n",
    "                                                    shuffle=True,\n",
    "                                                    random_state=42)"
   ]
  },
  {
   "cell_type": "code",
   "execution_count": 329,
   "metadata": {},
   "outputs": [
    {
     "data": {
      "text/plain": [
       "{'max_depth': 4, 'max_features': 6, 'n_estimators': 200}"
      ]
     },
     "execution_count": 329,
     "metadata": {},
     "output_type": "execute_result"
    }
   ],
   "source": [
    "gs = GridSearchCV(GBR(),\n",
    "                  param_grid={'n_estimators': [200], 'max_depth':range(4,21,2), 'max_features':range(6,50,2) },\n",
    "                  scoring=scoring, refit='r2', return_train_score=True, n_jobs=-1)\n",
    "gs.fit(X_train, y_train)\n",
    "gs.best_params_"
   ]
  },
  {
   "cell_type": "code",
   "execution_count": 331,
   "metadata": {},
   "outputs": [
    {
     "name": "stdout",
     "output_type": "stream",
     "text": [
      "0.9911138013559764\n",
      "0.8719116002038028\n"
     ]
    }
   ],
   "source": [
    "gbr = GBR(n_estimators=300, max_depth=4, max_features=6, random_state=0)\n",
    "gbr.fit(X_train, y_train)\n",
    "print(gbr.score(X_train, y_train))\n",
    "print(gbr.score(X_test, y_test))"
   ]
  },
  {
   "cell_type": "code",
   "execution_count": 332,
   "metadata": {},
   "outputs": [
    {
     "data": {
      "text/plain": [
       "{'max_depth': 19, 'max_features': 14, 'n_estimators': 100}"
      ]
     },
     "execution_count": 332,
     "metadata": {},
     "output_type": "execute_result"
    }
   ],
   "source": [
    "gs = GridSearchCV(RandomForestRegressor(),\n",
    "                  param_grid={'n_estimators': range(100, 200, 100), \n",
    "                              'max_depth':range(5,21,2), \n",
    "                              'max_features':range(5,55,3)},\n",
    "                  scoring=scoring, refit='r2', return_train_score=True, n_jobs=-1)\n",
    "gs.fit(X_train, y_train)\n",
    "gs.best_params_"
   ]
  },
  {
   "cell_type": "code",
   "execution_count": 333,
   "metadata": {},
   "outputs": [
    {
     "name": "stdout",
     "output_type": "stream",
     "text": [
      "0.9662485532658681\n",
      "0.74048645198644\n"
     ]
    }
   ],
   "source": [
    "rf = RandomForestRegressor(n_estimators=1000,max_depth=13, max_features=14, random_state=123)\n",
    "rf.fit(X_train, y_train)\n",
    "print(rf.score(X_train, y_train))\n",
    "print(rf.score(X_test, y_test))"
   ]
  },
  {
   "cell_type": "markdown",
   "metadata": {},
   "source": [
    "С новыми признаками качетсво модели повысилось до $87\\%$."
   ]
  },
  {
   "cell_type": "markdown",
   "metadata": {},
   "source": [
    "Еще одни признак, который можно добавить - уровень образования. Я нашла данные по численности студентов в ВУЗах на 10000 населения за 2005-2016 годы."
   ]
  },
  {
   "cell_type": "code",
   "execution_count": 339,
   "metadata": {},
   "outputs": [
    {
     "data": {
      "text/html": [
       "<div>\n",
       "<style scoped>\n",
       "    .dataframe tbody tr th:only-of-type {\n",
       "        vertical-align: middle;\n",
       "    }\n",
       "\n",
       "    .dataframe tbody tr th {\n",
       "        vertical-align: top;\n",
       "    }\n",
       "\n",
       "    .dataframe thead th {\n",
       "        text-align: right;\n",
       "    }\n",
       "</style>\n",
       "<table border=\"1\" class=\"dataframe\">\n",
       "  <thead>\n",
       "    <tr style=\"text-align: right;\">\n",
       "      <th></th>\n",
       "      <th>2005</th>\n",
       "    </tr>\n",
       "  </thead>\n",
       "  <tbody>\n",
       "    <tr>\n",
       "      <th>г.Москва</th>\n",
       "      <td>100,00</td>\n",
       "    </tr>\n",
       "    <tr>\n",
       "      <th>г.Санкт-Петербург</th>\n",
       "      <td>81,46</td>\n",
       "    </tr>\n",
       "    <tr>\n",
       "      <th>Томская область</th>\n",
       "      <td>64,40</td>\n",
       "    </tr>\n",
       "    <tr>\n",
       "      <th>Тюменская область</th>\n",
       "      <td>43,60</td>\n",
       "    </tr>\n",
       "    <tr>\n",
       "      <th>Орловская область</th>\n",
       "      <td>46,74</td>\n",
       "    </tr>\n",
       "  </tbody>\n",
       "</table>\n",
       "</div>"
      ],
      "text/plain": [
       "                     2005\n",
       "г.Москва           100,00\n",
       "г.Санкт-Петербург   81,46\n",
       "Томская область     64,40\n",
       "Тюменская область   43,60\n",
       "Орловская область   46,74"
      ]
     },
     "execution_count": 339,
     "metadata": {},
     "output_type": "execute_result"
    }
   ],
   "source": [
    "edu_url='http://nonerg-econ.ru/rdata/20/'\n",
    "edu_page=requests.get(edu_url)\n",
    "\n",
    "soup = BeautifulSoup(edu_page.text, 'html.parser')\n",
    "soup.table.find_all('th')\n",
    "edu_05_table = np.array([x.text for x in (soup.table.find_all('td'))]).reshape(-1,6)\n",
    "edu_05_df = pd.DataFrame({2005:edu_05_table[:,2]}, index=edu_05_table[:,1])\n",
    "edu_05_df.head()"
   ]
  },
  {
   "cell_type": "markdown",
   "metadata": {},
   "source": [
    "Здесь тоже отсутствует пробел в названиях городов, исправим это. И объединим данные за все годы в одну таблицу.\n",
    "Так же, как и для прошлых признаков, добавим средний уровень образования по региону. И для 2000-2004 годов, информации о которых не нашлось, заполним пустоты этим средним значением."
   ]
  },
  {
   "cell_type": "code",
   "execution_count": 342,
   "metadata": {},
   "outputs": [],
   "source": [
    "addresses = list(range(20,30))+[77,86]\n",
    "edu_dfs=[]\n",
    "for i, address in enumerate(addresses):\n",
    "    year = 2005+i\n",
    "    edu_url=f'http://nonerg-econ.ru/rdata/{address}/'\n",
    "    edu_page=requests.get(edu_url)\n",
    "    soup = BeautifulSoup(edu_page.text, 'html.parser')\n",
    "    edu_table = np.array([x.text for x in (soup.table.find_all('td'))]).reshape(-1,6)\n",
    "    edu_table[np.where(edu_table=='г.Москва')] = 'г. Москва'\n",
    "    edu_table[np.where(edu_table=='г.Санкт-Петербург')] = 'г. Санкт-Петербург'\n",
    "    edu_dfs.append(pd.DataFrame({year:np.array([x.replace(',','.') for x in edu_table[:,2]]).astype(float)}, \n",
    "                                index=edu_table[:,1]))\n",
    "\n",
    "edu=edu_dfs[0]\n",
    "for df in edu_dfs[1:]:\n",
    "    edu = edu.join(df)"
   ]
  },
  {
   "cell_type": "code",
   "execution_count": 343,
   "metadata": {
    "scrolled": true
   },
   "outputs": [],
   "source": [
    "edu_df=edu.unstack().to_frame().sort_index(level=1).rename(columns={0:'education'})\n",
    "region_mean_edu = edu.agg(['mean'], axis=1)"
   ]
  },
  {
   "cell_type": "code",
   "execution_count": 344,
   "metadata": {},
   "outputs": [],
   "source": [
    "extra_years = set([x[0] for x in full_table.index])-set(edu.columns)\n",
    "for year in extra_years:\n",
    "    edu[year]=region_mean_edu['mean']"
   ]
  },
  {
   "cell_type": "code",
   "execution_count": 345,
   "metadata": {},
   "outputs": [],
   "source": [
    "edu_df=edu.unstack().to_frame().sort_index(level=1).rename(columns={0:'education'})\n",
    "region_mean_edu = pd.DataFrame({idx:region_mean_edu['mean'] for idx in edu.columns}, index=edu.index)\n",
    "region_mean_edu = region_mean_edu.unstack().to_frame().sort_index(level=1).rename(columns={0:'region_mean_education'})"
   ]
  },
  {
   "cell_type": "code",
   "execution_count": 346,
   "metadata": {},
   "outputs": [],
   "source": [
    "full_table=full_table.join(region_mean_edu).join(edu_df).dropna()"
   ]
  },
  {
   "cell_type": "markdown",
   "metadata": {},
   "source": [
    "Финальный вид таблицы признаков:"
   ]
  },
  {
   "cell_type": "code",
   "execution_count": 357,
   "metadata": {},
   "outputs": [
    {
     "data": {
      "text/html": [
       "<div>\n",
       "<style scoped>\n",
       "    .dataframe tbody tr th:only-of-type {\n",
       "        vertical-align: middle;\n",
       "    }\n",
       "\n",
       "    .dataframe tbody tr th {\n",
       "        vertical-align: top;\n",
       "    }\n",
       "\n",
       "    .dataframe thead th {\n",
       "        text-align: right;\n",
       "    }\n",
       "</style>\n",
       "<table border=\"1\" class=\"dataframe\">\n",
       "  <thead>\n",
       "    <tr style=\"text-align: right;\">\n",
       "      <th></th>\n",
       "      <th></th>\n",
       "      <th>criminality</th>\n",
       "      <th>salary</th>\n",
       "      <th>unemployment</th>\n",
       "      <th>year_mean_unemp</th>\n",
       "      <th>region_mean_unemp</th>\n",
       "      <th>income</th>\n",
       "      <th>employment</th>\n",
       "      <th>unemployment_count</th>\n",
       "      <th>year_mean_income</th>\n",
       "      <th>region_mean_income</th>\n",
       "      <th>year_mean_emp</th>\n",
       "      <th>region_mean_emp</th>\n",
       "      <th>region_mean_education</th>\n",
       "      <th>education</th>\n",
       "    </tr>\n",
       "  </thead>\n",
       "  <tbody>\n",
       "    <tr>\n",
       "      <th>2000</th>\n",
       "      <th>Алтайский край</th>\n",
       "      <td>2143.0</td>\n",
       "      <td>1364.8</td>\n",
       "      <td>11.7</td>\n",
       "      <td>12.098925</td>\n",
       "      <td>8.525</td>\n",
       "      <td>148.973</td>\n",
       "      <td>55.4</td>\n",
       "      <td>148.973</td>\n",
       "      <td>251.308753</td>\n",
       "      <td>104.7034</td>\n",
       "      <td>57.713978</td>\n",
       "      <td>58.98</td>\n",
       "      <td>36.4225</td>\n",
       "      <td>36.4225</td>\n",
       "    </tr>\n",
       "    <tr>\n",
       "      <th>2001</th>\n",
       "      <th>Алтайский край</th>\n",
       "      <td>2093.0</td>\n",
       "      <td>1870.4</td>\n",
       "      <td>10.0</td>\n",
       "      <td>10.481720</td>\n",
       "      <td>8.525</td>\n",
       "      <td>123.691</td>\n",
       "      <td>55.0</td>\n",
       "      <td>123.691</td>\n",
       "      <td>209.820022</td>\n",
       "      <td>104.7034</td>\n",
       "      <td>57.694624</td>\n",
       "      <td>58.98</td>\n",
       "      <td>36.4225</td>\n",
       "      <td>36.4225</td>\n",
       "    </tr>\n",
       "    <tr>\n",
       "      <th>2002</th>\n",
       "      <th>Алтайский край</th>\n",
       "      <td>2057.0</td>\n",
       "      <td>2567.6</td>\n",
       "      <td>8.3</td>\n",
       "      <td>9.337634</td>\n",
       "      <td>8.525</td>\n",
       "      <td>106.076</td>\n",
       "      <td>58.1</td>\n",
       "      <td>106.076</td>\n",
       "      <td>186.075376</td>\n",
       "      <td>104.7034</td>\n",
       "      <td>58.972043</td>\n",
       "      <td>58.98</td>\n",
       "      <td>36.4225</td>\n",
       "      <td>36.4225</td>\n",
       "    </tr>\n",
       "    <tr>\n",
       "      <th>2003</th>\n",
       "      <th>Алтайский край</th>\n",
       "      <td>2434.0</td>\n",
       "      <td>3147.5</td>\n",
       "      <td>12.3</td>\n",
       "      <td>9.872043</td>\n",
       "      <td>8.525</td>\n",
       "      <td>155.305</td>\n",
       "      <td>54.9</td>\n",
       "      <td>155.305</td>\n",
       "      <td>193.757344</td>\n",
       "      <td>104.7034</td>\n",
       "      <td>58.497849</td>\n",
       "      <td>58.98</td>\n",
       "      <td>36.4225</td>\n",
       "      <td>36.4225</td>\n",
       "    </tr>\n",
       "    <tr>\n",
       "      <th>2004</th>\n",
       "      <th>Алтайский край</th>\n",
       "      <td>2315.0</td>\n",
       "      <td>3955.3</td>\n",
       "      <td>9.1</td>\n",
       "      <td>9.347312</td>\n",
       "      <td>8.525</td>\n",
       "      <td>117.596</td>\n",
       "      <td>59.0</td>\n",
       "      <td>117.596</td>\n",
       "      <td>184.970333</td>\n",
       "      <td>104.7034</td>\n",
       "      <td>59.308602</td>\n",
       "      <td>58.98</td>\n",
       "      <td>36.4225</td>\n",
       "      <td>36.4225</td>\n",
       "    </tr>\n",
       "  </tbody>\n",
       "</table>\n",
       "</div>"
      ],
      "text/plain": [
       "                     criminality  salary  unemployment  year_mean_unemp  \\\n",
       "2000 Алтайский край       2143.0  1364.8          11.7        12.098925   \n",
       "2001 Алтайский край       2093.0  1870.4          10.0        10.481720   \n",
       "2002 Алтайский край       2057.0  2567.6           8.3         9.337634   \n",
       "2003 Алтайский край       2434.0  3147.5          12.3         9.872043   \n",
       "2004 Алтайский край       2315.0  3955.3           9.1         9.347312   \n",
       "\n",
       "                     region_mean_unemp   income  employment  \\\n",
       "2000 Алтайский край              8.525  148.973        55.4   \n",
       "2001 Алтайский край              8.525  123.691        55.0   \n",
       "2002 Алтайский край              8.525  106.076        58.1   \n",
       "2003 Алтайский край              8.525  155.305        54.9   \n",
       "2004 Алтайский край              8.525  117.596        59.0   \n",
       "\n",
       "                     unemployment_count  year_mean_income  region_mean_income  \\\n",
       "2000 Алтайский край             148.973        251.308753            104.7034   \n",
       "2001 Алтайский край             123.691        209.820022            104.7034   \n",
       "2002 Алтайский край             106.076        186.075376            104.7034   \n",
       "2003 Алтайский край             155.305        193.757344            104.7034   \n",
       "2004 Алтайский край             117.596        184.970333            104.7034   \n",
       "\n",
       "                     year_mean_emp  region_mean_emp  region_mean_education  \\\n",
       "2000 Алтайский край      57.713978            58.98                36.4225   \n",
       "2001 Алтайский край      57.694624            58.98                36.4225   \n",
       "2002 Алтайский край      58.972043            58.98                36.4225   \n",
       "2003 Алтайский край      58.497849            58.98                36.4225   \n",
       "2004 Алтайский край      59.308602            58.98                36.4225   \n",
       "\n",
       "                     education  \n",
       "2000 Алтайский край    36.4225  \n",
       "2001 Алтайский край    36.4225  \n",
       "2002 Алтайский край    36.4225  \n",
       "2003 Алтайский край    36.4225  \n",
       "2004 Алтайский край    36.4225  "
      ]
     },
     "execution_count": 357,
     "metadata": {},
     "output_type": "execute_result"
    }
   ],
   "source": [
    "full_table.head()"
   ]
  },
  {
   "cell_type": "code",
   "execution_count": 349,
   "metadata": {},
   "outputs": [
    {
     "name": "stdout",
     "output_type": "stream",
     "text": [
      "salary\n",
      "unemployment\n",
      "year_mean_unemp\n",
      "region_mean_unemp\n",
      "income\n",
      "employment\n",
      "unemployment_count\n",
      "year_mean_income\n",
      "region_mean_income\n",
      "year_mean_emp\n",
      "region_mean_emp\n",
      "region_mean_education\n",
      "education\n"
     ]
    }
   ],
   "source": [
    "X = np.zeros((full_table.shape[0],full_table.shape[1]-1))\n",
    "for i, col_name in enumerate(full_table.columns[1:]):\n",
    "    print(col_name)\n",
    "    X[:,i] = full_table[col_name]\n",
    "y  = (np.array(full_table['criminality']))"
   ]
  },
  {
   "cell_type": "code",
   "execution_count": 1252,
   "metadata": {},
   "outputs": [],
   "source": [
    "X_train, X_test, y_train, y_test = train_test_split(X, y, \n",
    "                                                    test_size=0.25, \n",
    "                                                    shuffle=True,\n",
    "                                                    random_state=42)"
   ]
  },
  {
   "cell_type": "code",
   "execution_count": 352,
   "metadata": {},
   "outputs": [
    {
     "data": {
      "text/plain": [
       "{'max_depth': 13, 'max_features': 11, 'n_estimators': 100}"
      ]
     },
     "execution_count": 352,
     "metadata": {},
     "output_type": "execute_result"
    }
   ],
   "source": [
    "gs = GridSearchCV(RandomForestRegressor(),\n",
    "                  param_grid={'n_estimators': range(100, 200, 100), \n",
    "                              'max_depth':range(5,21,2), \n",
    "                              'max_features':range(5,55,3)},\n",
    "                  scoring=scoring, refit='r2', return_train_score=True, n_jobs=-1)\n",
    "gs.fit(X_train, y_train)\n",
    "gs.best_params_"
   ]
  },
  {
   "cell_type": "code",
   "execution_count": 364,
   "metadata": {},
   "outputs": [
    {
     "name": "stdout",
     "output_type": "stream",
     "text": [
      "0.9647734829512301\n",
      "0.7480396548225972\n"
     ]
    }
   ],
   "source": [
    "rf = RandomForestRegressor(n_estimators=100,max_depth=13, max_features=11, random_state=1)\n",
    "rf.fit(X_train, y_train)\n",
    "print(rf.score(X_train, y_train))\n",
    "print(rf.score(X_test, y_test))"
   ]
  },
  {
   "cell_type": "code",
   "execution_count": 358,
   "metadata": {},
   "outputs": [
    {
     "data": {
      "text/plain": [
       "{'max_depth': 6, 'max_features': 8, 'n_estimators': 200}"
      ]
     },
     "execution_count": 358,
     "metadata": {},
     "output_type": "execute_result"
    }
   ],
   "source": [
    "gs = GridSearchCV(GBR(),\n",
    "                  param_grid={'n_estimators': [200], 'max_depth':range(4,21,2), 'max_features':range(6,50,2) },\n",
    "                  scoring=scoring, refit='r2', return_train_score=True, n_jobs=-1)\n",
    "gs.fit(X_train, y_train)\n",
    "gs.best_params_"
   ]
  },
  {
   "cell_type": "code",
   "execution_count": 363,
   "metadata": {},
   "outputs": [
    {
     "name": "stdout",
     "output_type": "stream",
     "text": [
      "0.999340990987435\n",
      "0.8555147834553122\n"
     ]
    }
   ],
   "source": [
    "gbr = GBR(n_estimators=200, max_depth=6, max_features=8, random_state=0)\n",
    "gbr.fit(X_train, y_train)\n",
    "print(gbr.score(X_train, y_train))\n",
    "print(gbr.score(X_test, y_test))"
   ]
  },
  {
   "cell_type": "code",
   "execution_count": 365,
   "metadata": {},
   "outputs": [],
   "source": [
    "current_features_count=X.shape[1]\n",
    "for i in range(current_features_count):\n",
    "    for fn in functions:\n",
    "        X =np.concatenate((X,fn(X[:,i][:,None])), axis=1)\n",
    "X=np.concatenate((X,(X[:,0]*X[:,1])[:,None]), axis=1)\n",
    "X=np.concatenate((X,(X[:,6]*X[:,1])[:,None]), axis=1)\n",
    "X=np.concatenate((X,(X[:,0]/X[:,6])[:,None]), axis=1)"
   ]
  },
  {
   "cell_type": "code",
   "execution_count": 366,
   "metadata": {},
   "outputs": [],
   "source": [
    "X_train, X_test, y_train, y_test = train_test_split(X, y, \n",
    "                                                    test_size=0.25, \n",
    "                                                    shuffle=True,\n",
    "                                                    random_state=42)"
   ]
  },
  {
   "cell_type": "code",
   "execution_count": 373,
   "metadata": {},
   "outputs": [
    {
     "name": "stdout",
     "output_type": "stream",
     "text": [
      "0.9695557466769648\n",
      "0.8232288804658388\n"
     ]
    }
   ],
   "source": [
    "rf = RandomForestRegressor(n_estimators=200,max_depth=13, max_features=11, random_state=123)\n",
    "rf.fit(X_train, y_train)\n",
    "print(rf.score(X_train, y_train))\n",
    "print(rf.score(X_test, y_test))"
   ]
  },
  {
   "cell_type": "code",
   "execution_count": 384,
   "metadata": {},
   "outputs": [
    {
     "name": "stdout",
     "output_type": "stream",
     "text": [
      "0.9999908519475444\n",
      "0.8900413532190986\n"
     ]
    }
   ],
   "source": [
    "gbr = GBR(n_estimators=400, max_depth=6, max_features=8, random_state=0)\n",
    "gbr.fit(X_train, y_train)\n",
    "print(gbr.score(X_train, y_train))\n",
    "print(gbr.score(X_test, y_test))"
   ]
  },
  {
   "cell_type": "markdown",
   "metadata": {},
   "source": [
    "Признак уровня образования сам по себе не улучшил качество регрессии, но в совокупности со своими \"производными\" (обратное, корень, логарифм), позволил достичь $89\\%$ качества на тестовой выборке."
   ]
  },
  {
   "cell_type": "markdown",
   "metadata": {},
   "source": [
    "На самом деле есть еще множество признаков, которые можно было бы добавить: уровень бедности (доля населения, имеющего доход ниже некоторого порога,  как https://www.gks.ru/free_doc/new_site/population/bednost/tabl/tab-bed2-7.htm), степень расслоения общества (разброс степени обеспеченности населения), плотность населения в регионе, доступность оружия, уровень коррупции и т.д.). Однако доступ к таким данным за большой период времени(10 лет и более) ограничен. Можно найти некоторую статистику за отдельные годы, но добавления этих данных в выборку либо приведет к существунному уменьшению количества объектов в выборке (если рассматривать только объекты, для которых все известно), либо к большому количеству пропущенных значений.\n",
    "Поэтому я остановлясь на текущей модели градиентного бустинга, предсказывающей уровень преступности по безработице, занятости, средней зарплате и доходам, а также уровню образования с $R^2=89\\%$."
   ]
  },
  {
   "cell_type": "code",
   "execution_count": null,
   "metadata": {},
   "outputs": [],
   "source": []
  }
 ],
 "metadata": {
  "kernelspec": {
   "display_name": "Python 3",
   "language": "python",
   "name": "python3"
  },
  "language_info": {
   "codemirror_mode": {
    "name": "ipython",
    "version": 3
   },
   "file_extension": ".py",
   "mimetype": "text/x-python",
   "name": "python",
   "nbconvert_exporter": "python",
   "pygments_lexer": "ipython3",
   "version": "3.6.9"
  }
 },
 "nbformat": 4,
 "nbformat_minor": 4
}
